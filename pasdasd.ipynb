{
 "cells": [
  {
   "cell_type": "code",
   "execution_count": 1,
   "metadata": {},
   "outputs": [],
   "source": [
    "import pandas as pd\n",
    "import os\n",
    "import math"
   ]
  },
  {
   "cell_type": "code",
   "execution_count": 2,
   "metadata": {},
   "outputs": [],
   "source": [
    "winds = {\"2m\": [], \"6m\": [], \"10m\": []}\n",
    "for file in os.listdir('data/data_by_station/'):\n",
    "    df = pd.read_csv(f'data/data_by_station/{file}')\n",
    "    df.v2 = df.v2.astype(float)\n",
    "    df.v6 = df.v6.astype(float)\n",
    "    df.v10 = df.v10.astype(float)\n",
    "    \n",
    "    winds[\"2m\"].append(df[df.v2 == 0].shape[0] / df.shape[0])\n",
    "    winds[\"6m\"].append(df[df.v6 == 0].shape[0] / df.shape[0])\n",
    "    winds[\"10m\"].append(df[df.v10 == 0].shape[0] / df.shape[0])\n"
   ]
  },
  {
   "cell_type": "code",
   "execution_count": 11,
   "metadata": {},
   "outputs": [
    {
     "name": "stdout",
     "output_type": "stream",
     "text": [
      "Winds 2m (69): 39.43%\n",
      "Winds 6m (15): 8.57%\n",
      "Winds 10m (98): 56.00%\n"
     ]
    }
   ],
   "source": [
    "m2winds = winds[\"2m\"]\n",
    "m6winds = winds[\"6m\"]\n",
    "m10winds = winds[\"10m\"]\n",
    "\n",
    "count = 0\n",
    "for i in m2winds:\n",
    "    if i > 0.8:\n",
    "        count += 1\n",
    "print(f'Winds 2m ({len(os.listdir(\"data/data_by_station\"))-count}): {1 - (count / len(os.listdir(\"data/data_by_station\"))):.2%}')\n",
    "\n",
    "count = 0\n",
    "for i in m6winds:\n",
    "    if i > 0.8:\n",
    "        count += 1\n",
    "print(f'Winds 6m ({len(os.listdir(\"data/data_by_station\"))-count}): {1 - (count / len(os.listdir(\"data/data_by_station\"))):.2%}')\n",
    "\n",
    "count = 0\n",
    "for i in m10winds:\n",
    "    if i > 0.8:\n",
    "        count += 1\n",
    "print(f'Winds 10m ({len(os.listdir(\"data/data_by_station\"))-count}): {1 - (count / len(os.listdir(\"data/data_by_station\"))):.2%}')"
   ]
  },
  {
   "cell_type": "code",
   "execution_count": 8,
   "metadata": {},
   "outputs": [
    {
     "name": "stdout",
     "output_type": "stream",
     "text": [
      "All (5): 2.86%\n"
     ]
    }
   ],
   "source": [
    "count = 0\n",
    "for i in range(0, len(m2winds)):\n",
    "    if m2winds[i] < 0.8 and m6winds[i] < 0.8 and m10winds[i] > 0.8:\n",
    "        count += 1\n",
    "\n",
    "print(f'All ({count}): {count / len(os.listdir(\"data/data_by_station\")):.2%}')"
   ]
  },
  {
   "cell_type": "code",
   "execution_count": 9,
   "metadata": {},
   "outputs": [],
   "source": [
    "wind2m = {\"mean\": [], \"std\": [], \"q25\": [], \"q75\": []}\n",
    "wind10m = {\"mean\": [], \"std\": [], \"q25\": [], \"q75\": []}\n",
    "\n",
    "for file in os.listdir('data/data_by_station/'):\n",
    "    df = pd.read_csv(f'data/data_by_station/{file}')\n",
    "    df.v2 = df.v2.astype(float)\n",
    "    df.u6 = df.v6.astype(float)\n",
    "    \n",
    "    df.v10 = df.v10.astype(float)\n",
    "    df.u10 = df.u10.astype(float)\n",
    "    \n",
    "    df['mod2'] = df.v2 * df.v2 + df.u2 * df.u2\n",
    "    df['mod10'] = df.v10 * df.v10 + df.u10 * df.u10\n",
    "\n",
    "    # sqrt of mod2\n",
    "    df.mod2 = df.mod2.apply(math.sqrt)\n",
    "    df.mod10 = df.mod10.apply(math.sqrt)\n",
    "    \n",
    "    if df[df.mod2 == 0].shape[0] / df.shape[0] < 0.8:\n",
    "        wind2m['mean'].append(df.mod2.mean())\n",
    "        wind2m['std'].append(df.mod2.std())\n",
    "        wind2m['q25'].append(df.mod2.quantile(0.25))\n",
    "        wind2m['q75'].append(df.mod2.quantile(0.75))\n",
    "        \n",
    "    if df[df.mod10 == 0].shape[0] / df.shape[0] < 0.8:\n",
    "        wind10m['mean'].append(df.mod10.mean())\n",
    "        wind10m['std'].append(df.mod10.std())\n",
    "        wind10m['q25'].append(df.mod10.quantile(0.25))\n",
    "        wind10m['q75'].append(df.mod10.quantile(0.75))"
   ]
  },
  {
   "cell_type": "code",
   "execution_count": 10,
   "metadata": {},
   "outputs": [
    {
     "name": "stdout",
     "output_type": "stream",
     "text": [
      "2m \n",
      "\tMean: 1.26 \n",
      "\tSTD: 1.06 \n",
      "\tQ25: 0.50 \n",
      "\tQ75: 1.74\n"
     ]
    }
   ],
   "source": [
    "print(f'2m \\n\\tMean: {sum(wind2m[\"mean\"]) / len(wind2m[\"mean\"]):.2f} \\n\\tSTD: {sum(wind2m[\"std\"]) / len(wind2m[\"std\"]):.2f} \\n\\tQ25: {sum(wind2m[\"q25\"]) / len(wind2m[\"q25\"]):.2f} \\n\\tQ75: {sum(wind2m[\"q75\"]) / len(wind2m[\"q75\"]):.2f}')"
   ]
  },
  {
   "cell_type": "code",
   "execution_count": 11,
   "metadata": {},
   "outputs": [
    {
     "name": "stdout",
     "output_type": "stream",
     "text": [
      "10m \n",
      "\tMean: 2.53 \n",
      "\tSTD: 1.77 \n",
      "\tQ25: 1.24 \n",
      "\tQ75: 3.40\n"
     ]
    }
   ],
   "source": [
    "print(f'10m \\n\\tMean: {sum(wind10m[\"mean\"]) / len(wind10m[\"mean\"]):.2f} \\n\\tSTD: {sum(wind10m[\"std\"]) / len(wind10m[\"std\"]):.2f} \\n\\tQ25: {sum(wind10m[\"q25\"]) / len(wind10m[\"q25\"]):.2f} \\n\\tQ75: {sum(wind10m[\"q75\"]) / len(wind10m[\"q75\"]):.2f}')"
   ]
  },
  {
   "cell_type": "code",
   "execution_count": 17,
   "metadata": {},
   "outputs": [
    {
     "data": {
      "text/html": [
       "<div>\n",
       "<style scoped>\n",
       "    .dataframe tbody tr th:only-of-type {\n",
       "        vertical-align: middle;\n",
       "    }\n",
       "\n",
       "    .dataframe tbody tr th {\n",
       "        vertical-align: top;\n",
       "    }\n",
       "\n",
       "    .dataframe thead th {\n",
       "        text-align: right;\n",
       "    }\n",
       "</style>\n",
       "<table border=\"1\" class=\"dataframe\">\n",
       "  <thead>\n",
       "    <tr style=\"text-align: right;\">\n",
       "      <th></th>\n",
       "      <th>T</th>\n",
       "      <th>HR</th>\n",
       "      <th>P</th>\n",
       "      <th>station</th>\n",
       "      <th>date</th>\n",
       "      <th>altitud</th>\n",
       "      <th>latitud</th>\n",
       "      <th>longitud</th>\n",
       "      <th>u2</th>\n",
       "      <th>v2</th>\n",
       "      <th>u6</th>\n",
       "      <th>v6</th>\n",
       "      <th>u10</th>\n",
       "      <th>v10</th>\n",
       "      <th>mod2</th>\n",
       "      <th>mod10</th>\n",
       "    </tr>\n",
       "  </thead>\n",
       "  <tbody>\n",
       "    <tr>\n",
       "      <th>0</th>\n",
       "      <td>13.2</td>\n",
       "      <td>67.0</td>\n",
       "      <td>0.0</td>\n",
       "      <td>ZD</td>\n",
       "      <td>2014-09-04 11:00:00</td>\n",
       "      <td>2478.0</td>\n",
       "      <td>42.32211</td>\n",
       "      <td>1.89716</td>\n",
       "      <td>0.0</td>\n",
       "      <td>0.0</td>\n",
       "      <td>0.0</td>\n",
       "      <td>0.0</td>\n",
       "      <td>-1.2</td>\n",
       "      <td>-2.9</td>\n",
       "      <td>0.0</td>\n",
       "      <td>3.138471</td>\n",
       "    </tr>\n",
       "    <tr>\n",
       "      <th>1</th>\n",
       "      <td>13.0</td>\n",
       "      <td>70.0</td>\n",
       "      <td>0.0</td>\n",
       "      <td>ZD</td>\n",
       "      <td>2014-09-04 11:30:00</td>\n",
       "      <td>2478.0</td>\n",
       "      <td>42.32211</td>\n",
       "      <td>1.89716</td>\n",
       "      <td>0.0</td>\n",
       "      <td>0.0</td>\n",
       "      <td>0.0</td>\n",
       "      <td>0.0</td>\n",
       "      <td>-0.1</td>\n",
       "      <td>-2.6</td>\n",
       "      <td>0.0</td>\n",
       "      <td>2.601922</td>\n",
       "    </tr>\n",
       "    <tr>\n",
       "      <th>2</th>\n",
       "      <td>12.7</td>\n",
       "      <td>79.0</td>\n",
       "      <td>0.0</td>\n",
       "      <td>ZD</td>\n",
       "      <td>2014-09-04 12:00:00</td>\n",
       "      <td>2478.0</td>\n",
       "      <td>42.32211</td>\n",
       "      <td>1.89716</td>\n",
       "      <td>0.0</td>\n",
       "      <td>0.0</td>\n",
       "      <td>0.0</td>\n",
       "      <td>0.0</td>\n",
       "      <td>-0.7</td>\n",
       "      <td>-1.4</td>\n",
       "      <td>0.0</td>\n",
       "      <td>1.565248</td>\n",
       "    </tr>\n",
       "    <tr>\n",
       "      <th>3</th>\n",
       "      <td>12.6</td>\n",
       "      <td>83.0</td>\n",
       "      <td>0.0</td>\n",
       "      <td>ZD</td>\n",
       "      <td>2014-09-04 12:30:00</td>\n",
       "      <td>2478.0</td>\n",
       "      <td>42.32211</td>\n",
       "      <td>1.89716</td>\n",
       "      <td>0.0</td>\n",
       "      <td>0.0</td>\n",
       "      <td>0.0</td>\n",
       "      <td>0.0</td>\n",
       "      <td>-0.9</td>\n",
       "      <td>-1.3</td>\n",
       "      <td>0.0</td>\n",
       "      <td>1.581139</td>\n",
       "    </tr>\n",
       "    <tr>\n",
       "      <th>4</th>\n",
       "      <td>11.8</td>\n",
       "      <td>86.0</td>\n",
       "      <td>0.0</td>\n",
       "      <td>ZD</td>\n",
       "      <td>2014-09-04 13:00:00</td>\n",
       "      <td>2478.0</td>\n",
       "      <td>42.32211</td>\n",
       "      <td>1.89716</td>\n",
       "      <td>0.0</td>\n",
       "      <td>0.0</td>\n",
       "      <td>0.0</td>\n",
       "      <td>0.0</td>\n",
       "      <td>-1.5</td>\n",
       "      <td>-1.1</td>\n",
       "      <td>0.0</td>\n",
       "      <td>1.860108</td>\n",
       "    </tr>\n",
       "  </tbody>\n",
       "</table>\n",
       "</div>"
      ],
      "text/plain": [
       "      T    HR    P station                 date  altitud   latitud  longitud  \\\n",
       "0  13.2  67.0  0.0      ZD  2014-09-04 11:00:00   2478.0  42.32211   1.89716   \n",
       "1  13.0  70.0  0.0      ZD  2014-09-04 11:30:00   2478.0  42.32211   1.89716   \n",
       "2  12.7  79.0  0.0      ZD  2014-09-04 12:00:00   2478.0  42.32211   1.89716   \n",
       "3  12.6  83.0  0.0      ZD  2014-09-04 12:30:00   2478.0  42.32211   1.89716   \n",
       "4  11.8  86.0  0.0      ZD  2014-09-04 13:00:00   2478.0  42.32211   1.89716   \n",
       "\n",
       "    u2   v2   u6   v6  u10  v10  mod2     mod10  \n",
       "0  0.0  0.0  0.0  0.0 -1.2 -2.9   0.0  3.138471  \n",
       "1  0.0  0.0  0.0  0.0 -0.1 -2.6   0.0  2.601922  \n",
       "2  0.0  0.0  0.0  0.0 -0.7 -1.4   0.0  1.565248  \n",
       "3  0.0  0.0  0.0  0.0 -0.9 -1.3   0.0  1.581139  \n",
       "4  0.0  0.0  0.0  0.0 -1.5 -1.1   0.0  1.860108  "
      ]
     },
     "execution_count": 17,
     "metadata": {},
     "output_type": "execute_result"
    }
   ],
   "source": [
    "wind2m = {\"temperature\": [], \"humidity\": [], \"pressure\": []}\n",
    "wind10m = {\"temperature\": [], \"humidity\": [], \"pressure\": []}\n",
    "\n",
    "for file in os.listdir('data/data_by_station/'):\n",
    "    df = pd.read_csv(f'data/data_by_station/{file}')\n",
    "    df.v6 = df.v2.astype(float)\n",
    "    df.u6 = df.v6.astype(float)\n",
    "    \n",
    "    df.v10 = df.v10.astype(float)\n",
    "    df.u10 = df.u10.astype(float)\n",
    "    \n",
    "    df['mod2'] = df.v2 * df.v2 + df.u2 * df.u2\n",
    "    df['mod10'] = df.v10 * df.v10 + df.u10 * df.u10\n",
    "\n",
    "    df.mod2 = df.mod2.apply(math.sqrt)\n",
    "    df.mod10 = df.mod10.apply(math.sqrt)\n",
    "    \n",
    "    df['T'] = df['T'].astype(float)\n",
    "    df['HR'] = df['HR'].astype(float)\n",
    "    df['P'] = df['P'].astype(float)\n",
    "\n",
    "    if df[df.mod2 == 0].shape[0] / df.shape[0] < 0.8:\n",
    "        wind2m['temperature'].append(df[df['T'] != 0.0].shape[0] / df.shape[0])\n",
    "        wind2m['humidity'].append(df[df['HR'] != 0.0].shape[0] / df.shape[0])\n",
    "        wind2m['pressure'].append(df[df['P'] != 0.0].shape[0] / df.shape[0])\n",
    "        \n",
    "    if df[df.mod10 == 0].shape[0] / df.shape[0] < 0.8:\n",
    "        wind10m['temperature'].append(df[df['T'] != 0.0].shape[0] / df.shape[0])\n",
    "        wind10m['humidity'].append(df[df['HR'] != 0.0].shape[0] / df.shape[0])\n",
    "        wind10m['pressure'].append(df[df['P'] != 0.0].shape[0] / df.shape[0])\n"
   ]
  },
  {
   "cell_type": "code",
   "execution_count": 18,
   "metadata": {},
   "outputs": [
    {
     "name": "stdout",
     "output_type": "stream",
     "text": [
      "2m \n",
      "\tTemperature: 0.00% \n",
      "\tHumidity: 0.00% \n",
      "\tPressure: 97.10%\n",
      "10m \n",
      "\tTemperature: 0.00% \n",
      "\tHumidity: 1.02% \n",
      "\tPressure: 23.47%\n"
     ]
    }
   ],
   "source": [
    "tcount, hcount, pcount = 0, 0, 0\n",
    "for i in range(0, len(wind2m['temperature'])):\n",
    "    if wind2m['temperature'][i] < 0.8:\n",
    "        tcount += 1\n",
    "    if wind2m['humidity'][i] < 0.8:\n",
    "        hcount += 1\n",
    "    if wind2m['pressure'][i] < 0.8:\n",
    "        pcount += 1\n",
    "\n",
    "print(f'2m \\n\\tTemperature: {tcount / len(wind2m[\"temperature\"]):.2%} \\n\\tHumidity: {hcount / len(wind2m[\"humidity\"]):.2%} \\n\\tPressure: {pcount / len(wind2m[\"pressure\"]):.2%}')\n",
    "\n",
    "tcount, hcount, pcount = 0, 0, 0\n",
    "for i in range(0, len(wind10m['temperature'])):\n",
    "    if wind10m['temperature'][i] < 0.8:\n",
    "        tcount += 1\n",
    "    if wind10m['humidity'][i] < 0.8:\n",
    "        hcount += 1\n",
    "    if wind10m['pressure'][i] < 0.8:\n",
    "        pcount += 1\n",
    "\n",
    "print(f'10m \\n\\tTemperature: {tcount / len(wind10m[\"temperature\"]):.2%} \\n\\tHumidity: {hcount / len(wind10m[\"humidity\"]):.2%} \\n\\tPressure: {pcount / len(wind10m[\"pressure\"]):.2%}')"
   ]
  }
 ],
 "metadata": {
  "kernelspec": {
   "display_name": "venv",
   "language": "python",
   "name": "python3"
  },
  "language_info": {
   "codemirror_mode": {
    "name": "ipython",
    "version": 3
   },
   "file_extension": ".py",
   "mimetype": "text/x-python",
   "name": "python",
   "nbconvert_exporter": "python",
   "pygments_lexer": "ipython3",
   "version": "3.7.9"
  },
  "orig_nbformat": 4
 },
 "nbformat": 4,
 "nbformat_minor": 2
}
