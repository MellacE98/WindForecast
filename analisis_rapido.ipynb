{
 "cells": [
  {
   "cell_type": "code",
   "execution_count": 1,
   "metadata": {},
   "outputs": [],
   "source": [
    "import requests\n",
    "import pandas as pd"
   ]
  },
  {
   "cell_type": "code",
   "execution_count": 4,
   "metadata": {},
   "outputs": [],
   "source": [
    "url = 'https://analisi.transparenciacatalunya.cat/resource/nzvn-apee.json?$limit=1000000'\n"
   ]
  },
  {
   "cell_type": "code",
   "execution_count": 5,
   "metadata": {},
   "outputs": [],
   "source": [
    "response = requests.get(url)\n",
    "data = response.json()\n",
    "df = pd.DataFrame(data)"
   ]
  },
  {
   "cell_type": "code",
   "execution_count": 6,
   "metadata": {},
   "outputs": [],
   "source": [
    "df = pd.read_csv('analisis_rapido.zip')"
   ]
  },
  {
   "cell_type": "code",
   "execution_count": 7,
   "metadata": {},
   "outputs": [],
   "source": [
    "df['data_lectura'] = pd.to_datetime(df['data_lectura'])"
   ]
  },
  {
   "cell_type": "code",
   "execution_count": 22,
   "metadata": {},
   "outputs": [],
   "source": [
    "stations = pd.read_json('data/stations.json')"
   ]
  },
  {
   "cell_type": "code",
   "execution_count": 16,
   "metadata": {},
   "outputs": [
    {
     "data": {
      "text/html": [
       "<div>\n",
       "<style scoped>\n",
       "    .dataframe tbody tr th:only-of-type {\n",
       "        vertical-align: middle;\n",
       "    }\n",
       "\n",
       "    .dataframe tbody tr th {\n",
       "        vertical-align: top;\n",
       "    }\n",
       "\n",
       "    .dataframe thead th {\n",
       "        text-align: right;\n",
       "    }\n",
       "</style>\n",
       "<table border=\"1\" class=\"dataframe\">\n",
       "  <thead>\n",
       "    <tr style=\"text-align: right;\">\n",
       "      <th></th>\n",
       "      <th>codi_estacio</th>\n",
       "      <th>nom_estacio</th>\n",
       "      <th>codi_tipus</th>\n",
       "      <th>latitud</th>\n",
       "      <th>longitud</th>\n",
       "      <th>geocoded_column</th>\n",
       "      <th>emplacament</th>\n",
       "      <th>altitud</th>\n",
       "      <th>codi_municipi</th>\n",
       "      <th>nom_municipi</th>\n",
       "      <th>...</th>\n",
       "      <th>codi_provincia</th>\n",
       "      <th>nom_provincia</th>\n",
       "      <th>codi_xarxa</th>\n",
       "      <th>nom_xarxa</th>\n",
       "      <th>codi_estat_ema</th>\n",
       "      <th>nom_estat_ema</th>\n",
       "      <th>data_inici</th>\n",
       "      <th>:@computed_region_bh64_c7uy</th>\n",
       "      <th>:@computed_region_wvic_k925</th>\n",
       "      <th>data_fi</th>\n",
       "    </tr>\n",
       "  </thead>\n",
       "  <tbody>\n",
       "    <tr>\n",
       "      <th>96</th>\n",
       "      <td>WZ</td>\n",
       "      <td>Cunit</td>\n",
       "      <td>A</td>\n",
       "      <td>41.20187</td>\n",
       "      <td>1.63346</td>\n",
       "      <td>{'type': 'Point', 'coordinates': [1.63346, 41....</td>\n",
       "      <td>-</td>\n",
       "      <td>17.0</td>\n",
       "      <td>324</td>\n",
       "      <td>Cunit</td>\n",
       "      <td>...</td>\n",
       "      <td>43</td>\n",
       "      <td>Tarragona</td>\n",
       "      <td>1</td>\n",
       "      <td>XEMA</td>\n",
       "      <td>2</td>\n",
       "      <td>Operativa</td>\n",
       "      <td>2006-06-27T00:00:00.000</td>\n",
       "      <td>425.0</td>\n",
       "      <td>33.0</td>\n",
       "      <td>NaN</td>\n",
       "    </tr>\n",
       "  </tbody>\n",
       "</table>\n",
       "<p>1 rows × 22 columns</p>\n",
       "</div>"
      ],
      "text/plain": [
       "   codi_estacio nom_estacio codi_tipus   latitud  longitud  \\\n",
       "96           WZ       Cunit          A  41.20187   1.63346   \n",
       "\n",
       "                                      geocoded_column emplacament  altitud  \\\n",
       "96  {'type': 'Point', 'coordinates': [1.63346, 41....           -     17.0   \n",
       "\n",
       "    codi_municipi nom_municipi  ...  codi_provincia nom_provincia  codi_xarxa  \\\n",
       "96            324        Cunit  ...              43     Tarragona           1   \n",
       "\n",
       "   nom_xarxa  codi_estat_ema nom_estat_ema               data_inici  \\\n",
       "96      XEMA               2     Operativa  2006-06-27T00:00:00.000   \n",
       "\n",
       "   :@computed_region_bh64_c7uy :@computed_region_wvic_k925  data_fi  \n",
       "96                       425.0                        33.0      NaN  \n",
       "\n",
       "[1 rows x 22 columns]"
      ]
     },
     "execution_count": 16,
     "metadata": {},
     "output_type": "execute_result"
    }
   ],
   "source": [
    "stations.sample(1)"
   ]
  },
  {
   "cell_type": "code",
   "execution_count": 25,
   "metadata": {},
   "outputs": [
    {
     "name": "stdout",
     "output_type": "stream",
     "text": [
      "[\"Val d'Aran\" 'Ripollès' 'Pallars Sobirà' 'Baix Camp' 'Cerdanya'\n",
      " 'Solsonès' 'Alta Ribagorça']\n"
     ]
    }
   ],
   "source": [
    "df_snow = df[df['codi_variable'] == 38]\n",
    "for station in df_snow.codi_estacio.unique():\n",
    "    # print(stations[stations.codi_estacio == station].nom_comarca.values[0])\n",
    "    pass\n",
    "print(stations[stations.codi_estacio.isin(df_snow.codi_estacio.unique())].nom_comarca.unique())"
   ]
  },
  {
   "cell_type": "code",
   "execution_count": 56,
   "metadata": {},
   "outputs": [],
   "source": [
    "variables = pd.read_json('data/variables.json')"
   ]
  },
  {
   "cell_type": "code",
   "execution_count": 57,
   "metadata": {},
   "outputs": [
    {
     "data": {
      "text/html": [
       "<div>\n",
       "<style scoped>\n",
       "    .dataframe tbody tr th:only-of-type {\n",
       "        vertical-align: middle;\n",
       "    }\n",
       "\n",
       "    .dataframe tbody tr th {\n",
       "        vertical-align: top;\n",
       "    }\n",
       "\n",
       "    .dataframe thead th {\n",
       "        text-align: right;\n",
       "    }\n",
       "</style>\n",
       "<table border=\"1\" class=\"dataframe\">\n",
       "  <thead>\n",
       "    <tr style=\"text-align: right;\">\n",
       "      <th></th>\n",
       "      <th>codi_variable</th>\n",
       "      <th>nom_variable</th>\n",
       "      <th>unitat</th>\n",
       "      <th>acronim</th>\n",
       "      <th>codi_tipus_var</th>\n",
       "      <th>decimals</th>\n",
       "    </tr>\n",
       "  </thead>\n",
       "  <tbody>\n",
       "    <tr>\n",
       "      <th>0</th>\n",
       "      <td>72</td>\n",
       "      <td>Precipitació màxima en 1 minut</td>\n",
       "      <td>mm</td>\n",
       "      <td>PPTx1min</td>\n",
       "      <td>DAT</td>\n",
       "      <td>1</td>\n",
       "    </tr>\n",
       "    <tr>\n",
       "      <th>1</th>\n",
       "      <td>3</td>\n",
       "      <td>Humitat relativa màxima</td>\n",
       "      <td>%</td>\n",
       "      <td>HRx</td>\n",
       "      <td>DAT</td>\n",
       "      <td>0</td>\n",
       "    </tr>\n",
       "    <tr>\n",
       "      <th>2</th>\n",
       "      <td>30</td>\n",
       "      <td>Velocitat del vent a 10 m (esc.)</td>\n",
       "      <td>m/s</td>\n",
       "      <td>VV10</td>\n",
       "      <td>DAT</td>\n",
       "      <td>1</td>\n",
       "    </tr>\n",
       "    <tr>\n",
       "      <th>3</th>\n",
       "      <td>31</td>\n",
       "      <td>Direcció de vent 10 m (m. 1)</td>\n",
       "      <td>°</td>\n",
       "      <td>DV10</td>\n",
       "      <td>DAT</td>\n",
       "      <td>0</td>\n",
       "    </tr>\n",
       "    <tr>\n",
       "      <th>4</th>\n",
       "      <td>32</td>\n",
       "      <td>Temperatura</td>\n",
       "      <td>°C</td>\n",
       "      <td>T</td>\n",
       "      <td>DAT</td>\n",
       "      <td>1</td>\n",
       "    </tr>\n",
       "  </tbody>\n",
       "</table>\n",
       "</div>"
      ],
      "text/plain": [
       "   codi_variable                      nom_variable unitat   acronim  \\\n",
       "0             72    Precipitació màxima en 1 minut     mm  PPTx1min   \n",
       "1              3           Humitat relativa màxima      %       HRx   \n",
       "2             30  Velocitat del vent a 10 m (esc.)    m/s      VV10   \n",
       "3             31      Direcció de vent 10 m (m. 1)      °      DV10   \n",
       "4             32                       Temperatura     °C         T   \n",
       "\n",
       "  codi_tipus_var  decimals  \n",
       "0            DAT         1  \n",
       "1            DAT         0  \n",
       "2            DAT         1  \n",
       "3            DAT         0  \n",
       "4            DAT         1  "
      ]
     },
     "execution_count": 57,
     "metadata": {},
     "output_type": "execute_result"
    }
   ],
   "source": [
    "variables.head()"
   ]
  },
  {
   "cell_type": "code",
   "execution_count": 58,
   "metadata": {},
   "outputs": [],
   "source": [
    "vrs = {} \n",
    "for variable in variables['codi_variable'].unique():\n",
    "    vrs[variable] = 0\n"
   ]
  },
  {
   "cell_type": "code",
   "execution_count": 59,
   "metadata": {},
   "outputs": [
    {
     "name": "stdout",
     "output_type": "stream",
     "text": [
      "Variable 72 appears in 104.41705685618729 each timestamp\n",
      "Variable 3 appears in 115.86672240802676 each timestamp\n",
      "Variable 30 appears in 63.916220735785956 each timestamp\n",
      "Variable 31 appears in 63.913879598662206 each timestamp\n",
      "Variable 32 appears in 115.85418060200669 each timestamp\n",
      "Variable 33 appears in 115.87056856187291 each timestamp\n",
      "Variable 34 appears in 64.74030100334448 each timestamp\n",
      "Variable 35 appears in 115.48076923076923 each timestamp\n",
      "Variable 36 appears in 100.88963210702342 each timestamp\n",
      "Variable 38 appears in 15.372240802675586 each timestamp\n",
      "Variable 40 appears in 114.85234113712374 each timestamp\n",
      "Variable 42 appears in 115.85133779264214 each timestamp\n",
      "Variable 44 appears in 115.86939799331104 each timestamp\n",
      "Variable 46 appears in 32.46973244147157 each timestamp\n",
      "Variable 47 appears in 32.431103678929766 each timestamp\n",
      "Variable 48 appears in 11.451170568561873 each timestamp\n",
      "Variable 49 appears in 11.451170568561873 each timestamp\n",
      "Variable 50 appears in 63.91170568561873 each timestamp\n",
      "Variable 51 appears in 63.909364548494985 each timestamp\n",
      "Variable 53 appears in 11.451170568561873 each timestamp\n",
      "Variable 54 appears in 11.451170568561873 each timestamp\n",
      "Variable 56 appears in 32.46989966555184 each timestamp\n",
      "Variable 57 appears in 32.4314381270903 each timestamp\n",
      "Variable 59 appears in 16.544147157190636 each timestamp\n",
      "Variable 1 appears in 64.68695652173913 each timestamp\n",
      "Variable 2 appears in 64.68712374581939 each timestamp\n"
     ]
    }
   ],
   "source": [
    "for data in df.data_lectura.unique():\n",
    "    df_date = df[df['data_lectura'] == data]\n",
    "    for variable in vrs:\n",
    "        df_var = df_date[df_date['codi_variable'] == str(variable)]\n",
    "        vrs[variable] += df_var.shape[0]\n"
   ]
  },
  {
   "cell_type": "code",
   "execution_count": 61,
   "metadata": {},
   "outputs": [
    {
     "name": "stdout",
     "output_type": "stream",
     "text": [
      "Variable PPTx1min appears in 104.41705685618729 each timestamp\n",
      "Variable HRx appears in 115.86672240802676 each timestamp\n",
      "Variable VV10 appears in 63.916220735785956 each timestamp\n",
      "Variable DV10 appears in 63.913879598662206 each timestamp\n",
      "Variable T appears in 115.85418060200669 each timestamp\n",
      "Variable HR appears in 115.87056856187291 each timestamp\n",
      "Variable P appears in 64.74030100334448 each timestamp\n",
      "Variable PPT appears in 115.48076923076923 each timestamp\n",
      "Variable RS appears in 100.88963210702342 each timestamp\n",
      "Variable GNEU appears in 15.372240802675586 each timestamp\n",
      "Variable Tx appears in 114.85234113712374 each timestamp\n",
      "Variable Tn appears in 115.85133779264214 each timestamp\n",
      "Variable HRn appears in 115.86939799331104 each timestamp\n",
      "Variable VV2 appears in 32.46973244147157 each timestamp\n",
      "Variable DV2 appears in 32.431103678929766 each timestamp\n",
      "Variable VV6 appears in 11.451170568561873 each timestamp\n",
      "Variable DV6 appears in 11.451170568561873 each timestamp\n",
      "Variable VVx10 appears in 63.91170568561873 each timestamp\n",
      "Variable DVVx10 appears in 63.909364548494985 each timestamp\n",
      "Variable VVx6 appears in 11.451170568561873 each timestamp\n",
      "Variable DVVx6 appears in 11.451170568561873 each timestamp\n",
      "Variable VVx2 appears in 32.46989966555184 each timestamp\n",
      "Variable DVVx2 appears in 32.4314381270903 each timestamp\n",
      "Variable RN appears in 16.544147157190636 each timestamp\n",
      "Variable Px appears in 64.68695652173913 each timestamp\n",
      "Variable Pn appears in 64.68712374581939 each timestamp\n"
     ]
    }
   ],
   "source": [
    "for v in vrs:\n",
    "    print(f'Variable {variables[variables.codi_variable == v].acronim.values[0]} appears in {vrs[v] / len(df.data_lectura.unique())} each timestamp')"
   ]
  },
  {
   "cell_type": "code",
   "execution_count": 62,
   "metadata": {},
   "outputs": [
    {
     "data": {
      "text/plain": [
       "'2010-05-10T11:00:00.000'"
      ]
     },
     "execution_count": 62,
     "metadata": {},
     "output_type": "execute_result"
    }
   ],
   "source": [
    "df.data_lectura.min()"
   ]
  },
  {
   "cell_type": "code",
   "execution_count": 63,
   "metadata": {},
   "outputs": [
    {
     "data": {
      "text/plain": [
       "'2010-09-12T00:30:00.000'"
      ]
     },
     "execution_count": 63,
     "metadata": {},
     "output_type": "execute_result"
    }
   ],
   "source": [
    "df.data_lectura.max()"
   ]
  }
 ],
 "metadata": {
  "kernelspec": {
   "display_name": "venv",
   "language": "python",
   "name": "python3"
  },
  "language_info": {
   "codemirror_mode": {
    "name": "ipython",
    "version": 3
   },
   "file_extension": ".py",
   "mimetype": "text/x-python",
   "name": "python",
   "nbconvert_exporter": "python",
   "pygments_lexer": "ipython3",
   "version": "3.7.9"
  },
  "orig_nbformat": 4
 },
 "nbformat": 4,
 "nbformat_minor": 2
}
