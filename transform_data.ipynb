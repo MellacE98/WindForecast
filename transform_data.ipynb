{
 "cells": [
  {
   "cell_type": "code",
   "execution_count": 15,
   "metadata": {},
   "outputs": [],
   "source": [
    "import os\n",
    "import datetime\n",
    "import numpy as np\n",
    "import pandas as pd\n",
    "import tensorflow as tf\n",
    "# from tensorflow import keras\n",
    "# from tensorflow.keras.models import Sequential\n",
    "# from tensorflow.keras.layers import LSTM, Dense"
   ]
  },
  {
   "cell_type": "code",
   "execution_count": 16,
   "metadata": {},
   "outputs": [
    {
     "name": "stdout",
     "output_type": "stream",
     "text": [
      "Num GPUs Available:  [PhysicalDevice(name='/physical_device:CPU:0', device_type='CPU'), PhysicalDevice(name='/physical_device:GPU:0', device_type='GPU')]\n"
     ]
    }
   ],
   "source": [
    "print(\"Num GPUs Available: \", tf.config.list_physical_devices())"
   ]
  },
  {
   "cell_type": "code",
   "execution_count": 17,
   "metadata": {},
   "outputs": [
    {
     "name": "stdout",
     "output_type": "stream",
     "text": [
      "2009\n",
      "2010\n",
      "2011\n",
      "2012\n",
      "2013\n",
      "2014\n",
      "2015\n",
      "2016\n",
      "2017\n",
      "2018\n",
      "2019\n",
      "2020\n",
      "2021\n",
      "2022\n",
      "2023\n"
     ]
    }
   ],
   "source": [
    "import os\n",
    "\n",
    "data_years = {}\n",
    "\n",
    "for file in os.listdir('data/stations_data/'):\n",
    "    if file.endswith(\".csv\"):\n",
    "        year = file.strip('.csv')[:4]\n",
    "        if year not in data_years:\n",
    "            data_years[year] = []\n",
    "        data_years[year].append(file)\n",
    "\n",
    "for year in data_years:\n",
    "    print(year)\n",
    "    if int(year) >= 2020:\n",
    "        continue\n",
    "    \n",
    "    data = []\n",
    "    for file in data_years[year]:\n",
    "        df = pd.read_csv('data/stations_data/' + file, sep=',')\n",
    "        data.append(df)\n",
    "    data = pd.concat(data)\n",
    "    data.to_csv('data/data_years/' + year + '.zip', index=False, compression='zip')\n"
   ]
  },
  {
   "cell_type": "code",
   "execution_count": 18,
   "metadata": {},
   "outputs": [
    {
     "name": "stdout",
     "output_type": "stream",
     "text": [
      "{'KP', 'V4', 'D1', 'XH', 'UI', 'MV', 'UE', 'X2', 'VY', 'MS', 'U8', 'XQ', 'WW', 'WO', 'VX', 'UO', 'UK', 'XZ', 'VZ', 'MQ', 'W2', 'YM', 'W1', 'Y4', 'VN', 'D2', 'WF', 'WE', 'UD', 'W3', 'XB', 'W8', 'XO'}\n"
     ]
    }
   ],
   "source": [
    "no_data_stations = []\n",
    "\n",
    "for file in os.listdir('data/data_years/'):\n",
    "    df = pd.read_csv('data/data_years/'+file, compression='zip')\n",
    "    for station in df['station'].unique():\n",
    "        df_station = df[df['station'] == station].copy()\n",
    "        num_minus_ones_col = (df_station[['u2', 'u6', 'u10']] == -1).sum() / df_station.shape[0]\n",
    "\n",
    "        if num_minus_ones_col['u2'] == 1 and num_minus_ones_col['u6'] == 1 and num_minus_ones_col['u10'] == 1:\n",
    "            no_data_stations.append(station)\n",
    "\n",
    "print(set(no_data_stations))"
   ]
  },
  {
   "cell_type": "code",
   "execution_count": 29,
   "metadata": {},
   "outputs": [],
   "source": [
    "h = True\n",
    "for file in os.listdir('data/data_years/'):\n",
    "    df = pd.read_csv('data/data_years/'+file, compression='zip', header=0, sep=',')\n",
    "    for station in df['station'].unique():\n",
    "        if station not in no_data_stations:\n",
    "            df_station = df[df['station'] == station].copy()\n",
    "\n",
    "            if not os.path.isfile('data/data_by_station/' + station + '.csv'):\n",
    "                df_station.to_csv('data/data_by_station/' + station + '.csv', index=False)\n",
    "            else:\n",
    "                df_station.to_csv('data/data_by_station/' + station + '.csv', mode='a', index=False, header=h)\n",
    "    h = False"
   ]
  },
  {
   "cell_type": "code",
   "execution_count": 30,
   "metadata": {},
   "outputs": [],
   "source": [
    "for file in os.listdir('data/data_by_station/'):\n",
    "    if file.endswith(\".csv\"):\n",
    "        df = pd.read_csv('data/data_by_station/'+file)\n",
    "        df = df[df['date'] != 'date'].copy()\t\n",
    "        df = df[df['date'] >= '2010-01-01'].copy()\n",
    "        df.to_csv('data/data_by_station/'+file.strip('.csv')+'.zip', index=False, compression='zip')"
   ]
  },
  {
   "cell_type": "code",
   "execution_count": 1,
   "metadata": {},
   "outputs": [],
   "source": [
    "%reset -f"
   ]
  },
  {
   "cell_type": "code",
   "execution_count": null,
   "metadata": {},
   "outputs": [],
   "source": [
    "import pandas as pd"
   ]
  }
 ],
 "metadata": {
  "kernelspec": {
   "display_name": "Python 3",
   "language": "python",
   "name": "python3"
  },
  "language_info": {
   "codemirror_mode": {
    "name": "ipython",
    "version": 3
   },
   "file_extension": ".py",
   "mimetype": "text/x-python",
   "name": "python",
   "nbconvert_exporter": "python",
   "pygments_lexer": "ipython3",
   "version": "3.7.9"
  },
  "orig_nbformat": 4
 },
 "nbformat": 4,
 "nbformat_minor": 2
}
