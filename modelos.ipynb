{
 "cells": [
  {
   "cell_type": "code",
   "execution_count": 12,
   "metadata": {},
   "outputs": [],
   "source": [
    "import os\n",
    "import json\n",
    "import numpy as np\n",
    "import pandas as pd\n",
    "from matplotlib import pyplot as plt\n",
    "import tensorflow as tf\n",
    "from tensorflow import keras\n",
    "from tensorflow.keras.models import Sequential\n",
    "from tensorflow.keras.layers import LSTM, Dense, Dropout"
   ]
  },
  {
   "cell_type": "code",
   "execution_count": 13,
   "metadata": {},
   "outputs": [
    {
     "name": "stdout",
     "output_type": "stream",
     "text": [
      "Num GPUs Available:  [PhysicalDevice(name='/physical_device:CPU:0', device_type='CPU'), PhysicalDevice(name='/physical_device:GPU:0', device_type='GPU')]\n"
     ]
    }
   ],
   "source": [
    "print(\"Num GPUs Available: \", tf.config.list_physical_devices())"
   ]
  },
  {
   "attachments": {},
   "cell_type": "markdown",
   "metadata": {},
   "source": [
    "# No outlier treatment"
   ]
  },
  {
   "cell_type": "code",
   "execution_count": 14,
   "metadata": {},
   "outputs": [
    {
     "name": "stdout",
     "output_type": "stream",
     "text": [
      "Training model with input width:  24  and  64  neurons\n",
      "Epoch 1/15\n",
      "4437/4437 [==============================] - 41s 9ms/step - loss: 0.0043 - mae: 0.0490 - val_loss: 0.0101 - val_mae: 0.0615\n",
      "Epoch 2/15\n",
      "4437/4437 [==============================] - 39s 9ms/step - loss: 0.0029 - mae: 0.0395 - val_loss: 0.0092 - val_mae: 0.0583\n",
      "Epoch 3/15\n",
      "4437/4437 [==============================] - 39s 9ms/step - loss: 0.0027 - mae: 0.0379 - val_loss: 0.0085 - val_mae: 0.0561\n",
      "Epoch 4/15\n",
      "4437/4437 [==============================] - 39s 9ms/step - loss: 0.0026 - mae: 0.0369 - val_loss: 0.0077 - val_mae: 0.0537\n",
      "Epoch 5/15\n",
      "4437/4437 [==============================] - 38s 9ms/step - loss: 0.0025 - mae: 0.0363 - val_loss: 0.0071 - val_mae: 0.0516\n",
      "Epoch 6/15\n",
      "4437/4437 [==============================] - 39s 9ms/step - loss: 0.0025 - mae: 0.0359 - val_loss: 0.0065 - val_mae: 0.0497\n",
      "Epoch 7/15\n",
      "4437/4437 [==============================] - 38s 9ms/step - loss: 0.0024 - mae: 0.0356 - val_loss: 0.0059 - val_mae: 0.0472\n",
      "Epoch 8/15\n",
      "4437/4437 [==============================] - 39s 9ms/step - loss: 0.0024 - mae: 0.0353 - val_loss: 0.0052 - val_mae: 0.0449\n",
      "Epoch 9/15\n",
      "4437/4437 [==============================] - 38s 9ms/step - loss: 0.0024 - mae: 0.0350 - val_loss: 0.0048 - val_mae: 0.0431\n",
      "Epoch 10/15\n",
      "4437/4437 [==============================] - 39s 9ms/step - loss: 0.0023 - mae: 0.0347 - val_loss: 0.0044 - val_mae: 0.0415\n",
      "Epoch 11/15\n",
      "4437/4437 [==============================] - 39s 9ms/step - loss: 0.0023 - mae: 0.0346 - val_loss: 0.0042 - val_mae: 0.0405\n",
      "Epoch 12/15\n",
      "4437/4437 [==============================] - 39s 9ms/step - loss: 0.0023 - mae: 0.0345 - val_loss: 0.0040 - val_mae: 0.0398\n",
      "Epoch 13/15\n",
      "4437/4437 [==============================] - 39s 9ms/step - loss: 0.0023 - mae: 0.0344 - val_loss: 0.0039 - val_mae: 0.0391\n",
      "Epoch 14/15\n",
      "4437/4437 [==============================] - 39s 9ms/step - loss: 0.0023 - mae: 0.0343 - val_loss: 0.0038 - val_mae: 0.0386\n",
      "Epoch 15/15\n",
      "4437/4437 [==============================] - 39s 9ms/step - loss: 0.0023 - mae: 0.0342 - val_loss: 0.0037 - val_mae: 0.0382\n",
      "547/547 [==============================] - 2s 3ms/step\n",
      "Training model with input width:  48  and  64  neurons\n",
      "Epoch 1/15\n",
      "4437/4437 [==============================] - 44s 10ms/step - loss: 0.0045 - mae: 0.0496 - val_loss: 0.0096 - val_mae: 0.0599\n",
      "Epoch 2/15\n",
      "4437/4437 [==============================] - 43s 10ms/step - loss: 0.0029 - mae: 0.0392 - val_loss: 0.0090 - val_mae: 0.0579\n",
      "Epoch 3/15\n",
      "4437/4437 [==============================] - 43s 10ms/step - loss: 0.0027 - mae: 0.0376 - val_loss: 0.0082 - val_mae: 0.0552\n",
      "Epoch 4/15\n",
      "4437/4437 [==============================] - 42s 10ms/step - loss: 0.0026 - mae: 0.0367 - val_loss: 0.0075 - val_mae: 0.0530\n",
      "Epoch 5/15\n",
      "4437/4437 [==============================] - 42s 10ms/step - loss: 0.0025 - mae: 0.0361 - val_loss: 0.0070 - val_mae: 0.0512\n",
      "Epoch 6/15\n",
      "4437/4437 [==============================] - 42s 9ms/step - loss: 0.0025 - mae: 0.0357 - val_loss: 0.0062 - val_mae: 0.0486\n",
      "Epoch 7/15\n",
      "4437/4437 [==============================] - 42s 9ms/step - loss: 0.0024 - mae: 0.0355 - val_loss: 0.0052 - val_mae: 0.0449\n",
      "Epoch 8/15\n",
      "4437/4437 [==============================] - 43s 10ms/step - loss: 0.0023 - mae: 0.0349 - val_loss: 0.0033 - val_mae: 0.0372\n",
      "Epoch 9/15\n",
      "4437/4437 [==============================] - 42s 10ms/step - loss: 0.0023 - mae: 0.0343 - val_loss: 0.0027 - val_mae: 0.0344\n",
      "Epoch 10/15\n",
      "4437/4437 [==============================] - 43s 10ms/step - loss: 0.0022 - mae: 0.0340 - val_loss: 0.0025 - val_mae: 0.0338\n",
      "Epoch 11/15\n",
      "4437/4437 [==============================] - 42s 10ms/step - loss: 0.0022 - mae: 0.0339 - val_loss: 0.0024 - val_mae: 0.0337\n",
      "Epoch 12/15\n",
      "4437/4437 [==============================] - 42s 10ms/step - loss: 0.0022 - mae: 0.0338 - val_loss: 0.0024 - val_mae: 0.0335\n",
      "Epoch 13/15\n",
      "4437/4437 [==============================] - 42s 9ms/step - loss: 0.0022 - mae: 0.0337 - val_loss: 0.0024 - val_mae: 0.0333\n",
      "Epoch 14/15\n",
      "4437/4437 [==============================] - 42s 9ms/step - loss: 0.0022 - mae: 0.0336 - val_loss: 0.0024 - val_mae: 0.0333\n",
      "Epoch 15/15\n",
      "4437/4437 [==============================] - 42s 10ms/step - loss: 0.0022 - mae: 0.0336 - val_loss: 0.0024 - val_mae: 0.0332\n",
      "546/546 [==============================] - 2s 4ms/step\n",
      "Training model with input width:  96  and  64  neurons\n",
      "Epoch 1/15\n",
      "4435/4435 [==============================] - 51s 11ms/step - loss: 0.0047 - mae: 0.0501 - val_loss: 0.0101 - val_mae: 0.0618\n",
      "Epoch 2/15\n",
      "4435/4435 [==============================] - 48s 11ms/step - loss: 0.0029 - mae: 0.0393 - val_loss: 0.0092 - val_mae: 0.0585\n",
      "Epoch 3/15\n",
      "4435/4435 [==============================] - 48s 11ms/step - loss: 0.0027 - mae: 0.0378 - val_loss: 0.0083 - val_mae: 0.0557\n",
      "Epoch 4/15\n",
      "4435/4435 [==============================] - 48s 11ms/step - loss: 0.0026 - mae: 0.0368 - val_loss: 0.0075 - val_mae: 0.0529\n",
      "Epoch 5/15\n",
      "4435/4435 [==============================] - 48s 11ms/step - loss: 0.0025 - mae: 0.0361 - val_loss: 0.0069 - val_mae: 0.0507\n",
      "Epoch 6/15\n",
      "4435/4435 [==============================] - 49s 11ms/step - loss: 0.0025 - mae: 0.0356 - val_loss: 0.0062 - val_mae: 0.0483\n",
      "Epoch 7/15\n",
      "4435/4435 [==============================] - 49s 11ms/step - loss: 0.0024 - mae: 0.0352 - val_loss: 0.0054 - val_mae: 0.0455\n",
      "Epoch 8/15\n",
      "4435/4435 [==============================] - 48s 11ms/step - loss: 0.0023 - mae: 0.0346 - val_loss: 0.0039 - val_mae: 0.0398\n",
      "Epoch 9/15\n",
      "4435/4435 [==============================] - 49s 11ms/step - loss: 0.0022 - mae: 0.0341 - val_loss: 0.0030 - val_mae: 0.0357\n",
      "Epoch 10/15\n",
      "4435/4435 [==============================] - 48s 11ms/step - loss: 0.0022 - mae: 0.0338 - val_loss: 0.0027 - val_mae: 0.0348\n",
      "Epoch 11/15\n",
      "4435/4435 [==============================] - 48s 11ms/step - loss: 0.0022 - mae: 0.0337 - val_loss: 0.0027 - val_mae: 0.0346\n",
      "Epoch 12/15\n",
      "4435/4435 [==============================] - 48s 11ms/step - loss: 0.0022 - mae: 0.0336 - val_loss: 0.0026 - val_mae: 0.0341\n",
      "Epoch 13/15\n",
      "4435/4435 [==============================] - 48s 11ms/step - loss: 0.0022 - mae: 0.0336 - val_loss: 0.0025 - val_mae: 0.0338\n",
      "Epoch 14/15\n",
      "4435/4435 [==============================] - 48s 11ms/step - loss: 0.0022 - mae: 0.0335 - val_loss: 0.0025 - val_mae: 0.0336\n",
      "Epoch 15/15\n",
      "4435/4435 [==============================] - 48s 11ms/step - loss: 0.0022 - mae: 0.0335 - val_loss: 0.0025 - val_mae: 0.0334\n",
      "545/545 [==============================] - 3s 5ms/step\n",
      "Training model with input width:  24  and  64  neurons\n",
      "Epoch 1/15\n",
      "4437/4437 [==============================] - 43s 9ms/step - loss: 0.0101 - mae: 0.0721 - val_loss: 0.0208 - val_mae: 0.0891\n",
      "Epoch 2/15\n",
      "4437/4437 [==============================] - 40s 9ms/step - loss: 0.0095 - mae: 0.0693 - val_loss: 0.0163 - val_mae: 0.0800\n",
      "Epoch 3/15\n",
      "4437/4437 [==============================] - 40s 9ms/step - loss: 0.0093 - mae: 0.0686 - val_loss: 0.0133 - val_mae: 0.0735\n",
      "Epoch 4/15\n",
      "4437/4437 [==============================] - 40s 9ms/step - loss: 0.0092 - mae: 0.0682 - val_loss: 0.0130 - val_mae: 0.0729\n",
      "Epoch 5/15\n",
      "4437/4437 [==============================] - 37s 8ms/step - loss: 0.0090 - mae: 0.0678 - val_loss: 0.0125 - val_mae: 0.0714\n",
      "Epoch 6/15\n",
      "4437/4437 [==============================] - 37s 8ms/step - loss: 0.0089 - mae: 0.0675 - val_loss: 0.0115 - val_mae: 0.0692\n",
      "Epoch 7/15\n",
      "4437/4437 [==============================] - 37s 8ms/step - loss: 0.0088 - mae: 0.0672 - val_loss: 0.0100 - val_mae: 0.0663\n",
      "Epoch 8/15\n",
      "4437/4437 [==============================] - 37s 8ms/step - loss: 0.0088 - mae: 0.0670 - val_loss: 0.0098 - val_mae: 0.0658\n",
      "Epoch 9/15\n",
      "4437/4437 [==============================] - 37s 8ms/step - loss: 0.0088 - mae: 0.0669 - val_loss: 0.0097 - val_mae: 0.0656\n",
      "Epoch 10/15\n",
      "4437/4437 [==============================] - 37s 8ms/step - loss: 0.0087 - mae: 0.0668 - val_loss: 0.0096 - val_mae: 0.0651\n",
      "Epoch 11/15\n",
      "4437/4437 [==============================] - 37s 8ms/step - loss: 0.0087 - mae: 0.0668 - val_loss: 0.0096 - val_mae: 0.0651\n",
      "Epoch 12/15\n",
      "4437/4437 [==============================] - 37s 8ms/step - loss: 0.0087 - mae: 0.0667 - val_loss: 0.0096 - val_mae: 0.0651\n",
      "Epoch 13/15\n",
      "4437/4437 [==============================] - 37s 8ms/step - loss: 0.0087 - mae: 0.0666 - val_loss: 0.0094 - val_mae: 0.0649\n",
      "Epoch 14/15\n",
      "4437/4437 [==============================] - 37s 8ms/step - loss: 0.0087 - mae: 0.0666 - val_loss: 0.0094 - val_mae: 0.0648\n",
      "Epoch 15/15\n",
      "4437/4437 [==============================] - 37s 8ms/step - loss: 0.0086 - mae: 0.0665 - val_loss: 0.0094 - val_mae: 0.0648\n",
      "547/547 [==============================] - 2s 3ms/step\n",
      "Training model with input width:  48  and  64  neurons\n",
      "Epoch 1/15\n",
      "4437/4437 [==============================] - 42s 9ms/step - loss: 0.0100 - mae: 0.0717 - val_loss: 0.0210 - val_mae: 0.0896\n",
      "Epoch 2/15\n",
      "4437/4437 [==============================] - 40s 9ms/step - loss: 0.0095 - mae: 0.0693 - val_loss: 0.0180 - val_mae: 0.0830\n",
      "Epoch 3/15\n",
      "4437/4437 [==============================] - 40s 9ms/step - loss: 0.0093 - mae: 0.0685 - val_loss: 0.0152 - val_mae: 0.0772\n",
      "Epoch 4/15\n",
      "4437/4437 [==============================] - 40s 9ms/step - loss: 0.0089 - mae: 0.0672 - val_loss: 0.0090 - val_mae: 0.0647\n",
      "Epoch 5/15\n",
      "4437/4437 [==============================] - 40s 9ms/step - loss: 0.0086 - mae: 0.0664 - val_loss: 0.0085 - val_mae: 0.0640\n",
      "Epoch 6/15\n",
      "4437/4437 [==============================] - 40s 9ms/step - loss: 0.0085 - mae: 0.0662 - val_loss: 0.0084 - val_mae: 0.0635\n",
      "Epoch 7/15\n",
      "4437/4437 [==============================] - 40s 9ms/step - loss: 0.0085 - mae: 0.0661 - val_loss: 0.0084 - val_mae: 0.0636\n",
      "Epoch 8/15\n",
      "4437/4437 [==============================] - 40s 9ms/step - loss: 0.0085 - mae: 0.0660 - val_loss: 0.0084 - val_mae: 0.0635\n",
      "Epoch 9/15\n",
      "4437/4437 [==============================] - 44s 10ms/step - loss: 0.0085 - mae: 0.0660 - val_loss: 0.0084 - val_mae: 0.0635\n",
      "Epoch 10/15\n",
      "4437/4437 [==============================] - 41s 9ms/step - loss: 0.0085 - mae: 0.0659 - val_loss: 0.0084 - val_mae: 0.0635\n",
      "Epoch 11/15\n",
      "4437/4437 [==============================] - 40s 9ms/step - loss: 0.0084 - mae: 0.0659 - val_loss: 0.0083 - val_mae: 0.0633\n",
      "Epoch 12/15\n",
      "4437/4437 [==============================] - 39s 9ms/step - loss: 0.0084 - mae: 0.0658 - val_loss: 0.0083 - val_mae: 0.0633\n",
      "Epoch 13/15\n",
      "4437/4437 [==============================] - 40s 9ms/step - loss: 0.0084 - mae: 0.0658 - val_loss: 0.0083 - val_mae: 0.0632\n",
      "Epoch 14/15\n",
      "4437/4437 [==============================] - 43s 10ms/step - loss: 0.0084 - mae: 0.0658 - val_loss: 0.0083 - val_mae: 0.0631\n",
      "Epoch 15/15\n",
      "4437/4437 [==============================] - 42s 10ms/step - loss: 0.0084 - mae: 0.0658 - val_loss: 0.0082 - val_mae: 0.0631\n",
      "546/546 [==============================] - 2s 4ms/step\n",
      "Training model with input width:  96  and  64  neurons\n",
      "Epoch 1/15\n",
      "4435/4435 [==============================] - 51s 11ms/step - loss: 0.0101 - mae: 0.0721 - val_loss: 0.0217 - val_mae: 0.0911\n",
      "Epoch 2/15\n",
      "4435/4435 [==============================] - 49s 11ms/step - loss: 0.0096 - mae: 0.0695 - val_loss: 0.0190 - val_mae: 0.0854\n",
      "Epoch 3/15\n",
      "4435/4435 [==============================] - 49s 11ms/step - loss: 0.0094 - mae: 0.0688 - val_loss: 0.0173 - val_mae: 0.0816\n",
      "Epoch 4/15\n",
      "4435/4435 [==============================] - 49s 11ms/step - loss: 0.0091 - mae: 0.0679 - val_loss: 0.0103 - val_mae: 0.0671\n",
      "Epoch 5/15\n",
      "4435/4435 [==============================] - 49s 11ms/step - loss: 0.0087 - mae: 0.0666 - val_loss: 0.0092 - val_mae: 0.0651\n",
      "Epoch 6/15\n",
      "4435/4435 [==============================] - 49s 11ms/step - loss: 0.0086 - mae: 0.0663 - val_loss: 0.0090 - val_mae: 0.0649\n",
      "Epoch 7/15\n",
      "4435/4435 [==============================] - 49s 11ms/step - loss: 0.0085 - mae: 0.0662 - val_loss: 0.0090 - val_mae: 0.0648\n",
      "Epoch 8/15\n",
      "4435/4435 [==============================] - 49s 11ms/step - loss: 0.0085 - mae: 0.0661 - val_loss: 0.0090 - val_mae: 0.0648\n",
      "Epoch 9/15\n",
      "4435/4435 [==============================] - 49s 11ms/step - loss: 0.0085 - mae: 0.0660 - val_loss: 0.0089 - val_mae: 0.0647\n",
      "Epoch 10/15\n",
      "4435/4435 [==============================] - 49s 11ms/step - loss: 0.0085 - mae: 0.0660 - val_loss: 0.0089 - val_mae: 0.0644\n",
      "Epoch 11/15\n",
      "4435/4435 [==============================] - 49s 11ms/step - loss: 0.0085 - mae: 0.0660 - val_loss: 0.0088 - val_mae: 0.0644\n",
      "Epoch 12/15\n",
      "4435/4435 [==============================] - 49s 11ms/step - loss: 0.0085 - mae: 0.0659 - val_loss: 0.0088 - val_mae: 0.0643\n",
      "Epoch 13/15\n",
      "4435/4435 [==============================] - 49s 11ms/step - loss: 0.0084 - mae: 0.0659 - val_loss: 0.0088 - val_mae: 0.0643\n",
      "Epoch 14/15\n",
      "4435/4435 [==============================] - 49s 11ms/step - loss: 0.0084 - mae: 0.0659 - val_loss: 0.0087 - val_mae: 0.0642\n",
      "Epoch 15/15\n",
      "4435/4435 [==============================] - 49s 11ms/step - loss: 0.0084 - mae: 0.0658 - val_loss: 0.0088 - val_mae: 0.0642\n",
      "545/545 [==============================] - 3s 5ms/step\n"
     ]
    },
    {
     "data": {
      "text/plain": [
       "<Figure size 1000x600 with 0 Axes>"
      ]
     },
     "metadata": {},
     "output_type": "display_data"
    },
    {
     "data": {
      "text/plain": [
       "<Figure size 1000x600 with 0 Axes>"
      ]
     },
     "metadata": {},
     "output_type": "display_data"
    },
    {
     "data": {
      "text/plain": [
       "<Figure size 1000x600 with 0 Axes>"
      ]
     },
     "metadata": {},
     "output_type": "display_data"
    },
    {
     "data": {
      "text/plain": [
       "<Figure size 1000x600 with 0 Axes>"
      ]
     },
     "metadata": {},
     "output_type": "display_data"
    },
    {
     "data": {
      "text/plain": [
       "<Figure size 1000x600 with 0 Axes>"
      ]
     },
     "metadata": {},
     "output_type": "display_data"
    },
    {
     "data": {
      "text/plain": [
       "<Figure size 1000x600 with 0 Axes>"
      ]
     },
     "metadata": {},
     "output_type": "display_data"
    },
    {
     "data": {
      "text/plain": [
       "<Figure size 1000x600 with 0 Axes>"
      ]
     },
     "metadata": {},
     "output_type": "display_data"
    },
    {
     "data": {
      "text/plain": [
       "<Figure size 1000x600 with 0 Axes>"
      ]
     },
     "metadata": {},
     "output_type": "display_data"
    },
    {
     "data": {
      "text/plain": [
       "<Figure size 1000x600 with 0 Axes>"
      ]
     },
     "metadata": {},
     "output_type": "display_data"
    },
    {
     "data": {
      "text/plain": [
       "<Figure size 1000x600 with 0 Axes>"
      ]
     },
     "metadata": {},
     "output_type": "display_data"
    },
    {
     "data": {
      "text/plain": [
       "<Figure size 1000x600 with 0 Axes>"
      ]
     },
     "metadata": {},
     "output_type": "display_data"
    },
    {
     "data": {
      "text/plain": [
       "<Figure size 1000x600 with 0 Axes>"
      ]
     },
     "metadata": {},
     "output_type": "display_data"
    },
    {
     "data": {
      "text/plain": [
       "<Figure size 1000x600 with 0 Axes>"
      ]
     },
     "metadata": {},
     "output_type": "display_data"
    },
    {
     "data": {
      "text/plain": [
       "<Figure size 1000x600 with 0 Axes>"
      ]
     },
     "metadata": {},
     "output_type": "display_data"
    },
    {
     "data": {
      "text/plain": [
       "<Figure size 1000x600 with 0 Axes>"
      ]
     },
     "metadata": {},
     "output_type": "display_data"
    },
    {
     "data": {
      "text/plain": [
       "<Figure size 1000x600 with 0 Axes>"
      ]
     },
     "metadata": {},
     "output_type": "display_data"
    },
    {
     "data": {
      "text/plain": [
       "<Figure size 1000x600 with 0 Axes>"
      ]
     },
     "metadata": {},
     "output_type": "display_data"
    },
    {
     "data": {
      "text/plain": [
       "<Figure size 1000x600 with 0 Axes>"
      ]
     },
     "metadata": {},
     "output_type": "display_data"
    }
   ],
   "source": [
    "station = 'C6.zip'\n",
    "\n",
    "paths = [f'data/norm_data_01/{station}', f'data/norm_data_11/{station}']\n",
    "input_width = [24, 48, 96]\n",
    "neurons = [64]\n",
    "\n",
    "for path in paths:\n",
    "    df = pd.read_csv(path, compression='zip', header=0, sep=',')\n",
    "    df['date'] = pd.to_datetime(df['date'], format='%Y-%m-%d %H:%M:%S')\n",
    "    df = df.astype({'T': 'float', 'HR': 'float', 'P': 'float', 'u2': 'float', 'v2': 'float', 'u6': 'float', 'v6': 'float', 'u10': 'float', 'v10': 'float', 'altitud': 'float', 'latitud': 'float', 'longitud': 'float'})\n",
    "    \n",
    "    min_maxs = json.load(open('data/min_maxs.json', 'r'))\n",
    "\n",
    "    df['day'] = df['date'].dt.dayofyear / 365\n",
    "    df['time'] = df['date'].dt.hour / 24\n",
    "\n",
    "    df = df[['T', 'HR', 'P', 'u10', 'v10', 'day', 'time', 'date']]\n",
    "    cols = ['T', 'HR', 'P', 'u10', 'v10']\n",
    "    for width in input_width:\n",
    "        prediction_width = 1\n",
    "\n",
    "        df_train = df[df['date'] < '2019-01-01']\n",
    "        df_test = df[df['date'] >= '2019-01-01']\n",
    "\n",
    "        train_X = []\n",
    "        train_Y = []\n",
    "\n",
    "        for i in range(width, len(df_train) - prediction_width + 1):\n",
    "            train_X.append(df_train.iloc[i - width:i][cols].values)\n",
    "            train_Y.append(df_train.iloc[i:i + prediction_width][['T', 'u10', 'v10']].values)\n",
    "\n",
    "        test_X = []\n",
    "        test_Y = []\n",
    "\n",
    "        for i in range(width, len(df_test) - prediction_width + 1):\n",
    "            test_X.append(df_test.iloc[i - width:i][cols].values)\n",
    "            test_Y.append(df_test.iloc[i:i + prediction_width][['T', 'u10', 'v10']].values)\n",
    "\n",
    "        train_X = np.array(train_X)\n",
    "        train_Y = np.array(train_Y)\n",
    "\n",
    "        test_X = np.array(test_X)\n",
    "        test_Y = np.array(test_Y)\n",
    "\n",
    "        test_Y[:, 0, 0] = test_Y[:, 0, 0] * (min_maxs['T'][1] - min_maxs['T'][0]) + min_maxs['T'][0]\n",
    "        test_Y[:, 0, 1] = test_Y[:, 0, 1] * (min_maxs['u10'][1] - min_maxs['u10'][0]) + min_maxs['u10'][0]\n",
    "        test_Y[:, 0, 2] = test_Y[:, 0, 2] * (min_maxs['v10'][1] - min_maxs['v10'][0]) + min_maxs['v10'][0]\n",
    "\n",
    "        for n in neurons:\n",
    "            model = Sequential()\n",
    "            model.add(LSTM(n, activation='tanh', input_shape=(train_X.shape[1], train_X.shape[2])))\n",
    "            model.add(Dropout(0.2))\n",
    "            model.add(Dense(units=3, activation='linear'))\n",
    "\n",
    "            model.compile(optimizer='adam', loss='mse', metrics=['mae'])\n",
    "            print(\"Training model with input width: \", width, \" and \", n, \" neurons\")\n",
    "            with tf.device('/device:GPU:0'):\n",
    "                history = model.fit(train_X, train_Y, epochs=15, batch_size=32, validation_split=0.1, verbose=1, shuffle=False)\n",
    "            model.save(f'models/lstm_{path.split(\"_\")[-1].split(\"/\")[0]}_{n}_{width}_15epochs_32bs.h5')\n",
    "\n",
    "            y_pred = model.predict(test_X)\n",
    "            for idx, column in enumerate(['T', 'u10', 'v10']):\n",
    "                plt.figure(figsize=(10, 6))\n",
    "\n",
    "                y_pred[:, idx] = y_pred[:, idx] * (min_maxs[column][1] - min_maxs[column][0]) + min_maxs[column][0]\n",
    "                \n",
    "                plt.plot(test_Y[:1000, 0, idx], label='Real')\n",
    "                plt.plot(y_pred[:1000, idx], label='Pred')\n",
    "                \n",
    "                rmse = np.sqrt(np.mean(np.power((test_Y[:, 0, idx] - y_pred[:, idx]), 2)))\n",
    "                plt.legend()\n",
    "                plt.title(f'{path.split(\"_\")[-1].split(\"/\")[0]}_{n}_{width}_15epochs_32bs_{column}, RMSE: {rmse:.6f}')\n",
    "                plt.savefig(f'plots/{path.split(\"_\")[-1].split(\"/\")[0]}_{column}_{n}_{width}_15ep_32bs.png')\n",
    "                plt.clf()"
   ]
  },
  {
   "cell_type": "code",
   "execution_count": 15,
   "metadata": {},
   "outputs": [],
   "source": [
    "# copy_df = df.copy()\n",
    "# copy_df.set_index('date', inplace=True)\n",
    "# copy_df = copy_df[(copy_df.index.year == 2019) & (copy_df.index.month == 1)]\n",
    "# groups = [0, 1, 2, 11, 12] \n",
    "# i = 1\n",
    "# values = copy_df.values\n",
    "# plt.figure(figsize=(15, 10))\n",
    "# for group in groups:\n",
    "#     plt.subplot(len(groups), 1, i)\n",
    "#     plt.plot(values[:, group])\n",
    "#     plt.title(copy_df.columns[group], y=0.5, loc='right')\n",
    "#     i += 1\n",
    "# plt.savefig('plots/variables_month.png')\n",
    "# plt.show()\n",
    "# del copy_df, groups, i, values"
   ]
  },
  {
   "attachments": {},
   "cell_type": "markdown",
   "metadata": {},
   "source": [
    "# Treated outliers"
   ]
  },
  {
   "cell_type": "code",
   "execution_count": 18,
   "metadata": {},
   "outputs": [
    {
     "name": "stdout",
     "output_type": "stream",
     "text": [
      "Epoch 1/15\n",
      "4437/4437 [==============================] - 40s 9ms/step - loss: 0.0290 - mae: 0.1304 - val_loss: 0.0378 - val_mae: 0.1484\n",
      "Epoch 2/15\n",
      "4437/4437 [==============================] - 38s 9ms/step - loss: 0.0267 - mae: 0.1249 - val_loss: 0.0370 - val_mae: 0.1472\n",
      "Epoch 3/15\n",
      "4437/4437 [==============================] - 38s 9ms/step - loss: 0.0263 - mae: 0.1237 - val_loss: 0.0337 - val_mae: 0.1403\n",
      "Epoch 4/15\n",
      "4437/4437 [==============================] - 38s 9ms/step - loss: 0.0260 - mae: 0.1230 - val_loss: 0.0314 - val_mae: 0.1350\n",
      "Epoch 5/15\n",
      "4437/4437 [==============================] - 39s 9ms/step - loss: 0.0258 - mae: 0.1225 - val_loss: 0.0300 - val_mae: 0.1314\n",
      "Epoch 6/15\n",
      "4437/4437 [==============================] - 38s 9ms/step - loss: 0.0257 - mae: 0.1221 - val_loss: 0.0291 - val_mae: 0.1290\n",
      "Epoch 7/15\n",
      "4437/4437 [==============================] - 38s 9ms/step - loss: 0.0256 - mae: 0.1219 - val_loss: 0.0283 - val_mae: 0.1270\n",
      "Epoch 8/15\n",
      "4437/4437 [==============================] - 38s 9ms/step - loss: 0.0256 - mae: 0.1217 - val_loss: 0.0281 - val_mae: 0.1264\n",
      "Epoch 9/15\n",
      "4437/4437 [==============================] - 38s 9ms/step - loss: 0.0255 - mae: 0.1215 - val_loss: 0.0277 - val_mae: 0.1255\n",
      "Epoch 10/15\n",
      "4437/4437 [==============================] - 38s 9ms/step - loss: 0.0255 - mae: 0.1214 - val_loss: 0.0274 - val_mae: 0.1246\n",
      "Epoch 11/15\n",
      "4437/4437 [==============================] - 38s 9ms/step - loss: 0.0255 - mae: 0.1213 - val_loss: 0.0273 - val_mae: 0.1244\n",
      "Epoch 12/15\n",
      "4437/4437 [==============================] - 38s 9ms/step - loss: 0.0254 - mae: 0.1212 - val_loss: 0.0271 - val_mae: 0.1239\n",
      "Epoch 13/15\n",
      "4437/4437 [==============================] - 38s 9ms/step - loss: 0.0254 - mae: 0.1211 - val_loss: 0.0269 - val_mae: 0.1234\n",
      "Epoch 14/15\n",
      "4437/4437 [==============================] - 38s 9ms/step - loss: 0.0254 - mae: 0.1210 - val_loss: 0.0268 - val_mae: 0.1230\n",
      "Epoch 15/15\n",
      "4437/4437 [==============================] - 38s 9ms/step - loss: 0.0253 - mae: 0.1210 - val_loss: 0.0266 - val_mae: 0.1225\n",
      "547/547 [==============================] - 2s 4ms/step\n",
      "Epoch 1/15\n",
      "4437/4437 [==============================] - 42s 9ms/step - loss: 0.0287 - mae: 0.1296 - val_loss: 0.0380 - val_mae: 0.1488\n",
      "Epoch 2/15\n",
      "4437/4437 [==============================] - 40s 9ms/step - loss: 0.0267 - mae: 0.1247 - val_loss: 0.0355 - val_mae: 0.1447\n",
      "Epoch 3/15\n",
      "4437/4437 [==============================] - 40s 9ms/step - loss: 0.0262 - mae: 0.1235 - val_loss: 0.0331 - val_mae: 0.1398\n",
      "Epoch 4/15\n",
      "4437/4437 [==============================] - 40s 9ms/step - loss: 0.0259 - mae: 0.1227 - val_loss: 0.0307 - val_mae: 0.1346\n",
      "Epoch 5/15\n",
      "4437/4437 [==============================] - 40s 9ms/step - loss: 0.0257 - mae: 0.1221 - val_loss: 0.0288 - val_mae: 0.1296\n",
      "Epoch 6/15\n",
      "4437/4437 [==============================] - 40s 9ms/step - loss: 0.0256 - mae: 0.1216 - val_loss: 0.0270 - val_mae: 0.1243\n",
      "Epoch 7/15\n",
      "4437/4437 [==============================] - 40s 9ms/step - loss: 0.0254 - mae: 0.1212 - val_loss: 0.0259 - val_mae: 0.1209\n",
      "Epoch 8/15\n",
      "4437/4437 [==============================] - 40s 9ms/step - loss: 0.0253 - mae: 0.1209 - val_loss: 0.0254 - val_mae: 0.1192\n",
      "Epoch 9/15\n",
      "4437/4437 [==============================] - 40s 9ms/step - loss: 0.0253 - mae: 0.1207 - val_loss: 0.0250 - val_mae: 0.1180\n",
      "Epoch 10/15\n",
      "4437/4437 [==============================] - 41s 9ms/step - loss: 0.0252 - mae: 0.1206 - val_loss: 0.0248 - val_mae: 0.1172\n",
      "Epoch 11/15\n",
      "4437/4437 [==============================] - 40s 9ms/step - loss: 0.0252 - mae: 0.1205 - val_loss: 0.0247 - val_mae: 0.1168\n",
      "Epoch 12/15\n",
      "4437/4437 [==============================] - 39s 9ms/step - loss: 0.0252 - mae: 0.1204 - val_loss: 0.0246 - val_mae: 0.1167\n",
      "Epoch 13/15\n",
      "4437/4437 [==============================] - 40s 9ms/step - loss: 0.0251 - mae: 0.1203 - val_loss: 0.0245 - val_mae: 0.1165\n",
      "Epoch 14/15\n",
      "4437/4437 [==============================] - 40s 9ms/step - loss: 0.0251 - mae: 0.1202 - val_loss: 0.0245 - val_mae: 0.1161\n",
      "Epoch 15/15\n",
      "4437/4437 [==============================] - 40s 9ms/step - loss: 0.0251 - mae: 0.1202 - val_loss: 0.0244 - val_mae: 0.1159\n",
      "546/546 [==============================] - 2s 4ms/step\n",
      "Epoch 1/15\n",
      "4435/4435 [==============================] - 48s 10ms/step - loss: 0.0288 - mae: 0.1298 - val_loss: 0.0365 - val_mae: 0.1465\n",
      "Epoch 2/15\n",
      "4435/4435 [==============================] - 46s 10ms/step - loss: 0.0265 - mae: 0.1244 - val_loss: 0.0354 - val_mae: 0.1452\n",
      "Epoch 3/15\n",
      "4435/4435 [==============================] - 46s 10ms/step - loss: 0.0261 - mae: 0.1233 - val_loss: 0.0333 - val_mae: 0.1412\n",
      "Epoch 4/15\n",
      "4435/4435 [==============================] - 46s 10ms/step - loss: 0.0259 - mae: 0.1226 - val_loss: 0.0310 - val_mae: 0.1361\n",
      "Epoch 5/15\n",
      "4435/4435 [==============================] - 46s 10ms/step - loss: 0.0257 - mae: 0.1220 - val_loss: 0.0291 - val_mae: 0.1313\n",
      "Epoch 6/15\n",
      "4435/4435 [==============================] - 46s 10ms/step - loss: 0.0255 - mae: 0.1215 - val_loss: 0.0274 - val_mae: 0.1264\n",
      "Epoch 7/15\n",
      "4435/4435 [==============================] - 46s 10ms/step - loss: 0.0254 - mae: 0.1211 - val_loss: 0.0265 - val_mae: 0.1236\n",
      "Epoch 8/15\n",
      "4435/4435 [==============================] - 47s 10ms/step - loss: 0.0253 - mae: 0.1208 - val_loss: 0.0260 - val_mae: 0.1221\n",
      "Epoch 9/15\n",
      "4435/4435 [==============================] - 46s 10ms/step - loss: 0.0252 - mae: 0.1206 - val_loss: 0.0255 - val_mae: 0.1208\n",
      "Epoch 10/15\n",
      "4435/4435 [==============================] - 47s 11ms/step - loss: 0.0251 - mae: 0.1204 - val_loss: 0.0254 - val_mae: 0.1203\n",
      "Epoch 11/15\n",
      "4435/4435 [==============================] - 46s 10ms/step - loss: 0.0251 - mae: 0.1203 - val_loss: 0.0252 - val_mae: 0.1198\n",
      "Epoch 12/15\n",
      "4435/4435 [==============================] - 47s 11ms/step - loss: 0.0251 - mae: 0.1202 - val_loss: 0.0251 - val_mae: 0.1194\n",
      "Epoch 13/15\n",
      "4435/4435 [==============================] - 46s 10ms/step - loss: 0.0250 - mae: 0.1201 - val_loss: 0.0250 - val_mae: 0.1194\n",
      "Epoch 14/15\n",
      "4435/4435 [==============================] - 47s 11ms/step - loss: 0.0250 - mae: 0.1201 - val_loss: 0.0249 - val_mae: 0.1189\n",
      "Epoch 15/15\n",
      "4435/4435 [==============================] - 46s 10ms/step - loss: 0.0250 - mae: 0.1200 - val_loss: 0.0248 - val_mae: 0.1188\n",
      "545/545 [==============================] - 3s 5ms/step\n"
     ]
    },
    {
     "data": {
      "text/plain": [
       "<Figure size 1000x600 with 0 Axes>"
      ]
     },
     "metadata": {},
     "output_type": "display_data"
    },
    {
     "data": {
      "text/plain": [
       "<Figure size 1000x600 with 0 Axes>"
      ]
     },
     "metadata": {},
     "output_type": "display_data"
    },
    {
     "data": {
      "text/plain": [
       "<Figure size 1000x600 with 0 Axes>"
      ]
     },
     "metadata": {},
     "output_type": "display_data"
    },
    {
     "data": {
      "text/plain": [
       "<Figure size 1000x600 with 0 Axes>"
      ]
     },
     "metadata": {},
     "output_type": "display_data"
    },
    {
     "data": {
      "text/plain": [
       "<Figure size 1000x600 with 0 Axes>"
      ]
     },
     "metadata": {},
     "output_type": "display_data"
    },
    {
     "data": {
      "text/plain": [
       "<Figure size 1000x600 with 0 Axes>"
      ]
     },
     "metadata": {},
     "output_type": "display_data"
    },
    {
     "data": {
      "text/plain": [
       "<Figure size 1000x600 with 0 Axes>"
      ]
     },
     "metadata": {},
     "output_type": "display_data"
    },
    {
     "data": {
      "text/plain": [
       "<Figure size 1000x600 with 0 Axes>"
      ]
     },
     "metadata": {},
     "output_type": "display_data"
    },
    {
     "data": {
      "text/plain": [
       "<Figure size 1000x600 with 0 Axes>"
      ]
     },
     "metadata": {},
     "output_type": "display_data"
    }
   ],
   "source": [
    "station = 'C6.zip'\n",
    "\n",
    "paths = [f'data/norm_data_o01/{station}']#, f'data/norm_data_o11/{station}'\n",
    "\n",
    "input_width = [24, 48, 96]\n",
    "neurons = [64]\n",
    "\n",
    "for path in paths:\n",
    "    df = pd.read_csv(path, compression='zip', header=0, sep=',')\n",
    "    df['date'] = pd.to_datetime(df['date'], format='%Y-%m-%d %H:%M:%S')\n",
    "    df = df.astype({'T': 'float', 'HR': 'float', 'P': 'float', 'u2': 'float', 'v2': 'float', 'u6': 'float', 'v6': 'float', 'u10': 'float', 'v10': 'float', 'altitud': 'float', 'latitud': 'float', 'longitud': 'float'})\n",
    "    \n",
    "    min_maxs = json.load(open('data/quantiles.json', 'r'))\n",
    "\n",
    "    df['day'] = df['date'].dt.dayofyear / 365\n",
    "    df['time'] = df['date'].dt.hour / 24\n",
    "\n",
    "    df = df[['T', 'HR', 'P', 'u10', 'v10', 'day', 'time', 'date']]\n",
    "    cols = ['T', 'HR', 'P', 'u10', 'v10']\n",
    "    for width in input_width:\n",
    "        prediction_width = 1\n",
    "\n",
    "        df_train = df[df['date'] < '2019-01-01']\n",
    "        df_test = df[df['date'] >= '2019-01-01']\n",
    "\n",
    "        train_X = []\n",
    "        train_Y = []\n",
    "\n",
    "        for i in range(width, len(df_train) - prediction_width + 1):\n",
    "            train_X.append(df_train.iloc[i - width:i][cols].values)\n",
    "            train_Y.append(df_train.iloc[i:i + prediction_width][['T', 'u10', 'v10']].values)\n",
    "\n",
    "        test_X = []\n",
    "        test_Y = []\n",
    "\n",
    "        for i in range(width, len(df_test) - prediction_width + 1):\n",
    "            test_X.append(df_test.iloc[i - width:i][cols].values)\n",
    "            test_Y.append(df_test.iloc[i:i + prediction_width][['T', 'u10', 'v10']].values)\n",
    "\n",
    "        train_X = np.array(train_X)\n",
    "        train_Y = np.array(train_Y)\n",
    "\n",
    "        test_X = np.array(test_X)\n",
    "        test_Y = np.array(test_Y)\n",
    "\n",
    "        test_Y[:, 0, 0] = test_Y[:, 0, 0] * (min_maxs['T'][1] - min_maxs['T'][0]) + min_maxs['T'][0]\n",
    "        test_Y[:, 0, 1] = test_Y[:, 0, 1] * (min_maxs['u10'][1] - min_maxs['u10'][0]) + min_maxs['u10'][0]\n",
    "        test_Y[:, 0, 2] = test_Y[:, 0, 2] * (min_maxs['v10'][1] - min_maxs['v10'][0]) + min_maxs['v10'][0]\n",
    "\n",
    "        for n in neurons:\n",
    "            model = Sequential()\n",
    "            model.add(LSTM(n, activation='tanh', input_shape=(train_X.shape[1], train_X.shape[2])))\n",
    "            model.add(Dropout(0.2))\n",
    "            model.add(Dense(units=3, activation='linear'))\n",
    "\n",
    "            model.compile(optimizer='adam', loss='mse', metrics=['mae'])\n",
    "\n",
    "            with tf.device('/device:GPU:0'):\n",
    "                history = model.fit(train_X, train_Y, epochs=15, batch_size=32, validation_split=0.1, verbose=1, shuffle=False)\n",
    "            model.save(f'models/lstm_{path.split(\"_\")[-1].split(\"/\")[0]}_{n}_{width}_15epochs_32bs.h5')\n",
    "\n",
    "            y_pred = model.predict(test_X)\n",
    "            for idx, column in enumerate(['T', 'u10', 'v10']):\n",
    "                plt.figure(figsize=(10, 6))\n",
    "\n",
    "                y_pred[:, idx] = y_pred[:, idx] * (min_maxs[column][1] - min_maxs[column][0]) + min_maxs[column][0]\n",
    "                \n",
    "                plt.plot(test_Y[:1000, 0, idx], label='Real')\n",
    "                plt.plot(y_pred[:1000, idx], label='Pred')\n",
    "                \n",
    "                rmse = np.sqrt(np.mean(np.power((test_Y[:, 0, idx] - y_pred[:, idx]), 2)))\n",
    "                plt.legend()\n",
    "                plt.title(f'{path.split(\"_\")[-1].split(\"/\")[0]}_{n}_{width}_15epochs_32bs_{column}, RMSE: {rmse:.6f}')\n",
    "                plt.savefig(f'plots/{path.split(\"_\")[-1].split(\"/\")[0]}_{column}_{n}_{width}_15ep_32bs.png')\n",
    "                plt.clf()"
   ]
  },
  {
   "cell_type": "code",
   "execution_count": null,
   "metadata": {},
   "outputs": [],
   "source": [
    "%reset -f"
   ]
  }
 ],
 "metadata": {
  "kernelspec": {
   "display_name": "venv",
   "language": "python",
   "name": "python3"
  },
  "language_info": {
   "codemirror_mode": {
    "name": "ipython",
    "version": 3
   },
   "file_extension": ".py",
   "mimetype": "text/x-python",
   "name": "python",
   "nbconvert_exporter": "python",
   "pygments_lexer": "ipython3",
   "version": "3.7.9"
  },
  "orig_nbformat": 4
 },
 "nbformat": 4,
 "nbformat_minor": 2
}
