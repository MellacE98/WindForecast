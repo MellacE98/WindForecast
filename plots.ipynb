{
 "cells": [
  {
   "cell_type": "code",
   "execution_count": 1,
   "metadata": {},
   "outputs": [],
   "source": [
    "import pandas as pd\n",
    "import numpy as np\n",
    "import matplotlib.pyplot as plt\n",
    "\n",
    "pd.set_option('display.max_columns', None)"
   ]
  },
  {
   "attachments": {},
   "cell_type": "markdown",
   "metadata": {},
   "source": [
    "# 1. Which parts of Catalonia have higher/lower winds\n",
    "In this section an study of the winds is performed to then choose which part of Catalonia will be studied."
   ]
  },
  {
   "cell_type": "code",
   "execution_count": 2,
   "metadata": {},
   "outputs": [],
   "source": [
    "stations = pd.read_json('data/stations.json')"
   ]
  },
  {
   "attachments": {},
   "cell_type": "markdown",
   "metadata": {},
   "source": [
    "## 1.1. Stations data\n",
    "For each stations calculate various metrics for each wind component (u,v)."
   ]
  },
  {
   "cell_type": "code",
   "execution_count": 3,
   "metadata": {},
   "outputs": [
    {
     "data": {
      "text/html": [
       "<div>\n",
       "<style scoped>\n",
       "    .dataframe tbody tr th:only-of-type {\n",
       "        vertical-align: middle;\n",
       "    }\n",
       "\n",
       "    .dataframe tbody tr th {\n",
       "        vertical-align: top;\n",
       "    }\n",
       "\n",
       "    .dataframe thead th {\n",
       "        text-align: right;\n",
       "    }\n",
       "</style>\n",
       "<table border=\"1\" class=\"dataframe\">\n",
       "  <thead>\n",
       "    <tr style=\"text-align: right;\">\n",
       "      <th></th>\n",
       "      <th>codi_estacio</th>\n",
       "      <th>nom_estacio</th>\n",
       "      <th>codi_tipus</th>\n",
       "      <th>latitud</th>\n",
       "      <th>longitud</th>\n",
       "      <th>geocoded_column</th>\n",
       "      <th>emplacament</th>\n",
       "      <th>altitud</th>\n",
       "      <th>codi_municipi</th>\n",
       "      <th>nom_municipi</th>\n",
       "      <th>codi_comarca</th>\n",
       "      <th>nom_comarca</th>\n",
       "      <th>codi_provincia</th>\n",
       "      <th>nom_provincia</th>\n",
       "      <th>codi_xarxa</th>\n",
       "      <th>nom_xarxa</th>\n",
       "      <th>codi_estat_ema</th>\n",
       "      <th>nom_estat_ema</th>\n",
       "      <th>data_inici</th>\n",
       "      <th>:@computed_region_bh64_c7uy</th>\n",
       "      <th>:@computed_region_wvic_k925</th>\n",
       "      <th>data_fi</th>\n",
       "    </tr>\n",
       "  </thead>\n",
       "  <tbody>\n",
       "    <tr>\n",
       "      <th>0</th>\n",
       "      <td>CC</td>\n",
       "      <td>Orís</td>\n",
       "      <td>A</td>\n",
       "      <td>42.07398</td>\n",
       "      <td>2.20862</td>\n",
       "      <td>{'type': 'Point', 'coordinates': [2.20862, 42....</td>\n",
       "      <td>Abocador comarcal</td>\n",
       "      <td>626.0</td>\n",
       "      <td>573</td>\n",
       "      <td>Orís</td>\n",
       "      <td>24</td>\n",
       "      <td>Osona</td>\n",
       "      <td>8</td>\n",
       "      <td>Barcelona</td>\n",
       "      <td>1</td>\n",
       "      <td>XEMA</td>\n",
       "      <td>2</td>\n",
       "      <td>Operativa</td>\n",
       "      <td>1995-11-15T00:00:00.000</td>\n",
       "      <td>100.0</td>\n",
       "      <td>13.0</td>\n",
       "      <td>NaN</td>\n",
       "    </tr>\n",
       "    <tr>\n",
       "      <th>1</th>\n",
       "      <td>CL</td>\n",
       "      <td>Sant Salvador de Guardiola</td>\n",
       "      <td>A</td>\n",
       "      <td>41.67399</td>\n",
       "      <td>1.76796</td>\n",
       "      <td>{'type': 'Point', 'coordinates': [1.76796, 41....</td>\n",
       "      <td>Urbanització Miralda</td>\n",
       "      <td>349.0</td>\n",
       "      <td>203</td>\n",
       "      <td>Sant Salvador de Guardiola</td>\n",
       "      <td>7</td>\n",
       "      <td>Bages</td>\n",
       "      <td>8</td>\n",
       "      <td>Barcelona</td>\n",
       "      <td>1</td>\n",
       "      <td>XEMA</td>\n",
       "      <td>2</td>\n",
       "      <td>Operativa</td>\n",
       "      <td>1996-02-02T00:00:00.000</td>\n",
       "      <td>630.0</td>\n",
       "      <td>18.0</td>\n",
       "      <td>NaN</td>\n",
       "    </tr>\n",
       "    <tr>\n",
       "      <th>2</th>\n",
       "      <td>WL</td>\n",
       "      <td>Sant Martí de Riucorb</td>\n",
       "      <td>A</td>\n",
       "      <td>41.57236</td>\n",
       "      <td>1.08820</td>\n",
       "      <td>{'type': 'Point', 'coordinates': [1.0882, 41.5...</td>\n",
       "      <td>Camí de les Comes, pol. 2, parc. 137</td>\n",
       "      <td>413.0</td>\n",
       "      <td>866</td>\n",
       "      <td>Sant Martí de Riucorb</td>\n",
       "      <td>38</td>\n",
       "      <td>Urgell</td>\n",
       "      <td>25</td>\n",
       "      <td>Lleida</td>\n",
       "      <td>1</td>\n",
       "      <td>XEMA</td>\n",
       "      <td>2</td>\n",
       "      <td>Operativa</td>\n",
       "      <td>2002-02-05T00:00:00.000</td>\n",
       "      <td>599.0</td>\n",
       "      <td>17.0</td>\n",
       "      <td>NaN</td>\n",
       "    </tr>\n",
       "    <tr>\n",
       "      <th>3</th>\n",
       "      <td>MQ</td>\n",
       "      <td>Cardona</td>\n",
       "      <td>A</td>\n",
       "      <td>41.92047</td>\n",
       "      <td>1.69584</td>\n",
       "      <td>{'type': 'Point', 'coordinates': [1.69584, 41....</td>\n",
       "      <td>Boca nord del túnel de desviament del Cardener</td>\n",
       "      <td>402.0</td>\n",
       "      <td>180</td>\n",
       "      <td>Cardona</td>\n",
       "      <td>7</td>\n",
       "      <td>Bages</td>\n",
       "      <td>8</td>\n",
       "      <td>Barcelona</td>\n",
       "      <td>1</td>\n",
       "      <td>XEMA</td>\n",
       "      <td>2</td>\n",
       "      <td>Operativa</td>\n",
       "      <td>2003-01-16T00:00:00.000</td>\n",
       "      <td>140.0</td>\n",
       "      <td>18.0</td>\n",
       "      <td>NaN</td>\n",
       "    </tr>\n",
       "    <tr>\n",
       "      <th>4</th>\n",
       "      <td>X4</td>\n",
       "      <td>Barcelona - el Raval</td>\n",
       "      <td>A</td>\n",
       "      <td>41.38390</td>\n",
       "      <td>2.16775</td>\n",
       "      <td>{'type': 'Point', 'coordinates': [2.16775, 41....</td>\n",
       "      <td>Facultat de Geografia i Història. c. Montalegr...</td>\n",
       "      <td>33.0</td>\n",
       "      <td>332</td>\n",
       "      <td>Barcelona</td>\n",
       "      <td>13</td>\n",
       "      <td>Barcelonès</td>\n",
       "      <td>8</td>\n",
       "      <td>Barcelona</td>\n",
       "      <td>1</td>\n",
       "      <td>XEMA</td>\n",
       "      <td>2</td>\n",
       "      <td>Operativa</td>\n",
       "      <td>2006-10-11T00:00:00.000</td>\n",
       "      <td>512.0</td>\n",
       "      <td>29.0</td>\n",
       "      <td>NaN</td>\n",
       "    </tr>\n",
       "  </tbody>\n",
       "</table>\n",
       "</div>"
      ],
      "text/plain": [
       "  codi_estacio                 nom_estacio codi_tipus   latitud  longitud  \\\n",
       "0           CC                        Orís          A  42.07398   2.20862   \n",
       "1           CL  Sant Salvador de Guardiola          A  41.67399   1.76796   \n",
       "2           WL       Sant Martí de Riucorb          A  41.57236   1.08820   \n",
       "3           MQ                     Cardona          A  41.92047   1.69584   \n",
       "4           X4        Barcelona - el Raval          A  41.38390   2.16775   \n",
       "\n",
       "                                     geocoded_column  \\\n",
       "0  {'type': 'Point', 'coordinates': [2.20862, 42....   \n",
       "1  {'type': 'Point', 'coordinates': [1.76796, 41....   \n",
       "2  {'type': 'Point', 'coordinates': [1.0882, 41.5...   \n",
       "3  {'type': 'Point', 'coordinates': [1.69584, 41....   \n",
       "4  {'type': 'Point', 'coordinates': [2.16775, 41....   \n",
       "\n",
       "                                         emplacament  altitud  codi_municipi  \\\n",
       "0                                  Abocador comarcal    626.0            573   \n",
       "1                               Urbanització Miralda    349.0            203   \n",
       "2               Camí de les Comes, pol. 2, parc. 137    413.0            866   \n",
       "3     Boca nord del túnel de desviament del Cardener    402.0            180   \n",
       "4  Facultat de Geografia i Història. c. Montalegr...     33.0            332   \n",
       "\n",
       "                 nom_municipi  codi_comarca nom_comarca  codi_provincia  \\\n",
       "0                        Orís            24       Osona               8   \n",
       "1  Sant Salvador de Guardiola             7       Bages               8   \n",
       "2       Sant Martí de Riucorb            38      Urgell              25   \n",
       "3                     Cardona             7       Bages               8   \n",
       "4                   Barcelona            13  Barcelonès               8   \n",
       "\n",
       "  nom_provincia  codi_xarxa nom_xarxa  codi_estat_ema nom_estat_ema  \\\n",
       "0     Barcelona           1      XEMA               2     Operativa   \n",
       "1     Barcelona           1      XEMA               2     Operativa   \n",
       "2        Lleida           1      XEMA               2     Operativa   \n",
       "3     Barcelona           1      XEMA               2     Operativa   \n",
       "4     Barcelona           1      XEMA               2     Operativa   \n",
       "\n",
       "                data_inici  :@computed_region_bh64_c7uy  \\\n",
       "0  1995-11-15T00:00:00.000                        100.0   \n",
       "1  1996-02-02T00:00:00.000                        630.0   \n",
       "2  2002-02-05T00:00:00.000                        599.0   \n",
       "3  2003-01-16T00:00:00.000                        140.0   \n",
       "4  2006-10-11T00:00:00.000                        512.0   \n",
       "\n",
       "   :@computed_region_wvic_k925 data_fi  \n",
       "0                         13.0     NaN  \n",
       "1                         18.0     NaN  \n",
       "2                         17.0     NaN  \n",
       "3                         18.0     NaN  \n",
       "4                         29.0     NaN  "
      ]
     },
     "execution_count": 3,
     "metadata": {},
     "output_type": "execute_result"
    }
   ],
   "source": [
    "stations = stations[stations.data_fi.isna()]\n",
    "stations.head()"
   ]
  },
  {
   "cell_type": "code",
   "execution_count": 4,
   "metadata": {},
   "outputs": [],
   "source": [
    "stations_stats = []\n",
    "import math\n",
    "\n",
    "for station in stations.codi_estacio.unique():\n",
    "    try:\n",
    "        df_station = pd.read_csv(f'data/data_by_station/{station}.zip', compression='zip')\n",
    "        new_station = {'codi_estacio': station, 'comarca':stations[stations.codi_estacio == station].nom_comarca.values[0]}\n",
    "\n",
    "        df_station['w10'] = (df_station.u10 ** 2) + (df_station.v10 ** 2)\n",
    "        df_station['w6'] = (df_station.u6 ** 2) + (df_station.v6 ** 2)\n",
    "        df_station['w2'] = (df_station.u2 ** 2) + (df_station.v2 ** 2)\n",
    "\n",
    "        df_station['w10'] = df_station['w10'].apply(lambda x: math.sqrt(x))\n",
    "        df_station['w6'] = df_station['w6'].apply(lambda x: math.sqrt(x))\n",
    "        df_station['w2'] = df_station['w2'].apply(lambda x: math.sqrt(x))\n",
    "\n",
    "        new_station['w10_mean'], new_station['w10_std'] = df_station.w10.mean(), df_station.w10.std()\n",
    "        new_station['w6_mean'], new_station['w6_std'] = df_station.w6.mean(), df_station.w6.std()\n",
    "        new_station['w2_mean'], new_station['w2_std'] = df_station.w2.mean(), df_station.w2.std()\n",
    "\n",
    "        stations_stats.append(new_station)\n",
    "    except:\n",
    "        pass\n",
    "\n",
    "stations_stats = pd.DataFrame(stations_stats)"
   ]
  },
  {
   "cell_type": "code",
   "execution_count": 5,
   "metadata": {},
   "outputs": [
    {
     "name": "stdout",
     "output_type": "stream",
     "text": [
      "Altura 10: \n",
      "\tmax w:  7.23 ±5.21\n",
      "Altura 6: \n",
      "\tmax w:  5.13 ±3.15\n",
      "Altura 2: \n",
      "\tmax w:  2.23 ±1.59\n"
     ]
    }
   ],
   "source": [
    "extreme_stations = []\n",
    "\n",
    "alturas = [10, 6, 2]\n",
    "for h in alturas:\n",
    "    max_w_h, max_w_std = stations_stats[f\"w{h}_mean\"].max(), stations_stats[stations_stats[f\"w{h}_mean\"] == stations_stats[f\"w{h}_mean\"].max()][f\"w{h}_std\"].values[0]\n",
    "    print(f'Altura {h}: \\n\\tmax w:  {max_w_h:.2f} ±{max_w_std:.2f}')\n",
    "    \n",
    "    max_u_cod = stations_stats[(stations_stats[f\"w{h}_mean\"] == max_w_h)].codi_estacio.values[0]\n",
    "\n",
    "    extreme_stations.append([max_u_cod])\n"
   ]
  },
  {
   "cell_type": "code",
   "execution_count": 6,
   "metadata": {},
   "outputs": [
    {
     "name": "stdout",
     "output_type": "stream",
     "text": [
      "\n",
      "Mean wind: 2.58, Min: 1.09 (CL), Max: 7.23 (D6)\n"
     ]
    }
   ],
   "source": [
    "filled_stations = stations_stats[stations_stats.w10_mean > 0]\n",
    "\n",
    "print(f'\\nMean wind: {filled_stations.w10_mean.mean():.2f}, Min: {filled_stations.w10_mean.min():.2f} ({filled_stations[filled_stations.w10_mean.min() == filled_stations.w10_mean].codi_estacio.values[0]}), Max: {filled_stations.w10_mean.max():.2f} ({filled_stations[filled_stations.w10_mean.max() == filled_stations.w10_mean].codi_estacio.values[0]})')\n"
   ]
  },
  {
   "cell_type": "code",
   "execution_count": 8,
   "metadata": {},
   "outputs": [
    {
     "data": {
      "text/html": [
       "<div>\n",
       "<style scoped>\n",
       "    .dataframe tbody tr th:only-of-type {\n",
       "        vertical-align: middle;\n",
       "    }\n",
       "\n",
       "    .dataframe tbody tr th {\n",
       "        vertical-align: top;\n",
       "    }\n",
       "\n",
       "    .dataframe thead th {\n",
       "        text-align: right;\n",
       "    }\n",
       "</style>\n",
       "<table border=\"1\" class=\"dataframe\">\n",
       "  <thead>\n",
       "    <tr style=\"text-align: right;\">\n",
       "      <th></th>\n",
       "      <th>codi_estacio</th>\n",
       "      <th>comarca</th>\n",
       "      <th>w10_mean</th>\n",
       "      <th>w10_std</th>\n",
       "      <th>w6_mean</th>\n",
       "      <th>w6_std</th>\n",
       "      <th>w2_mean</th>\n",
       "      <th>w2_std</th>\n",
       "    </tr>\n",
       "  </thead>\n",
       "  <tbody>\n",
       "    <tr>\n",
       "      <th>76</th>\n",
       "      <td>C6</td>\n",
       "      <td>Pla d'Urgell</td>\n",
       "      <td>2.718843</td>\n",
       "      <td>1.858884</td>\n",
       "      <td>0.0</td>\n",
       "      <td>0.0</td>\n",
       "      <td>0.0</td>\n",
       "      <td>0.0</td>\n",
       "    </tr>\n",
       "  </tbody>\n",
       "</table>\n",
       "</div>"
      ],
      "text/plain": [
       "   codi_estacio       comarca  w10_mean   w10_std  w6_mean  w6_std  w2_mean  \\\n",
       "76           C6  Pla d'Urgell  2.718843  1.858884      0.0     0.0      0.0   \n",
       "\n",
       "    w2_std  \n",
       "76     0.0  "
      ]
     },
     "execution_count": 8,
     "metadata": {},
     "output_type": "execute_result"
    }
   ],
   "source": [
    "stations_stats[stations_stats.codi_estacio == 'C6']"
   ]
  },
  {
   "cell_type": "code",
   "execution_count": 24,
   "metadata": {},
   "outputs": [
    {
     "data": {
      "text/plain": [
       "72.06033794267981"
      ]
     },
     "execution_count": 24,
     "metadata": {},
     "output_type": "execute_result"
    }
   ],
   "source": [
    "df_station = pd.read_csv(f'data/data_by_station/C6.zip', compression='zip')\n",
    "df_station['HR'].mean()"
   ]
  },
  {
   "attachments": {},
   "cell_type": "markdown",
   "metadata": {},
   "source": [
    "# 2. Plot of the WRF times"
   ]
  },
  {
   "cell_type": "code",
   "execution_count": 3,
   "metadata": {},
   "outputs": [
    {
     "data": {
      "image/png": "[encoded data removed]",
      "text/plain": [
       "<Figure size 640x480 with 1 Axes>"
      ]
     },
     "metadata": {},
     "output_type": "display_data"
    }
   ],
   "source": [
    "import seaborn as sns\n",
    "\n",
    "sns.set_theme(style=\"ticks\")\n",
    "\n",
    "times = [76.33, 40.45, 28.18, 23.37, 19.18, 16.75, 13.9]\n",
    "times = [t * 60 for t in times]\n",
    "cores = [1, 2, 3, 4, 5, 6, 8]\n",
    "\n",
    "# make a line plot of time vs. cores\n",
    "plt.plot(cores, times, marker='.', markersize=5, color='black')\n",
    "plt.xlabel('Cores')\n",
    "plt.ylabel('Time (s)')\n",
    "plt.title('WRF execution time vs. Number of Cores')\n",
    "plt.show()"
   ]
  }
 ],
 "metadata": {
  "kernelspec": {
   "display_name": "venv",
   "language": "python",
   "name": "python3"
  },
  "language_info": {
   "codemirror_mode": {
    "name": "ipython",
    "version": 3
   },
   "file_extension": ".py",
   "mimetype": "text/x-python",
   "name": "python",
   "nbconvert_exporter": "python",
   "pygments_lexer": "ipython3",
   "version": "3.7.9"
  },
  "orig_nbformat": 4
 },
 "nbformat": 4,
 "nbformat_minor": 2
}
