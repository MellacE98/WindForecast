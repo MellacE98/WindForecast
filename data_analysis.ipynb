{
 "cells": [
  {
   "cell_type": "markdown",
   "metadata": {},
   "source": [
    "# Weather data analysis\n"
   ]
  },
  {
   "cell_type": "code",
   "execution_count": 3,
   "metadata": {},
   "outputs": [],
   "source": [
    "import pandas as pd\n",
    "import numpy as np\n",
    "import pymongo\n",
    "import json"
   ]
  },
  {
   "cell_type": "markdown",
   "metadata": {},
   "source": [
    "First load the sample dataframe and extract each column info"
   ]
  },
  {
   "cell_type": "code",
   "execution_count": 4,
   "metadata": {},
   "outputs": [],
   "source": [
    "v_dict = {}\n",
    "v_data = json.load(open('data/variables.json', encoding='UTF-8'))\n",
    "for var in v_data:\n",
    "    v_dict[var['codi_variable']] = var['acronim']"
   ]
  },
  {
   "cell_type": "code",
   "execution_count": 6,
   "metadata": {},
   "outputs": [],
   "source": [
    "df = pd.read_csv('data/prueba.csv')\n",
    "\n",
    "cols = list(df.columns)\n",
    "cols[0] = 'id'\n",
    "\n",
    "for i in range(1, len(cols)):\n",
    "    cols[i] = v_dict[cols[i]]\n",
    "    \n",
    "df.columns = cols"
   ]
  },
  {
   "cell_type": "markdown",
   "metadata": {},
   "source": [
    "Eliminar las columas que hagan referencia al viento en 2 y 6 metros, en total 4 columnas."
   ]
  },
  {
   "cell_type": "code",
   "execution_count": 7,
   "metadata": {},
   "outputs": [],
   "source": [
    "two_meters = ['VV2', 'DV2', 'VVx2', 'DVVx2']\n",
    "six_meters = ['VV6', 'DV6', 'VVx6', 'DVVx6']\n",
    "# df.drop(columns=two_meters, inplace=True)\n",
    "# df.drop(columns=six_meters, inplace=True)"
   ]
  },
  {
   "cell_type": "code",
   "execution_count": 8,
   "metadata": {},
   "outputs": [
    {
     "name": "stdout",
     "output_type": "stream",
     "text": [
      "<class 'pandas.core.frame.DataFrame'>\n",
      "RangeIndex: 755383 entries, 0 to 755382\n",
      "Data columns (total 27 columns):\n",
      " #   Column    Non-Null Count   Dtype  \n",
      "---  ------    --------------   -----  \n",
      " 0   id        755383 non-null  object \n",
      " 1   PPTx1min  697892 non-null  float64\n",
      " 2   HRx       734708 non-null  float64\n",
      " 3   VV10      357885 non-null  float64\n",
      " 4   DV10      357882 non-null  float64\n",
      " 5   T         734487 non-null  float64\n",
      " 6   HR        734787 non-null  float64\n",
      " 7   P         307048 non-null  float64\n",
      " 8   PPT       743100 non-null  float64\n",
      " 9   RS        583389 non-null  float64\n",
      " 10  GNEU      73663 non-null   float64\n",
      " 11  Tx        734394 non-null  float64\n",
      " 12  Tn        734358 non-null  float64\n",
      " 13  HRn       734706 non-null  float64\n",
      " 14  VV2       221054 non-null  float64\n",
      " 15  DV2       221053 non-null  float64\n",
      " 16  VV6       53076 non-null   float64\n",
      " 17  DV6       53063 non-null   float64\n",
      " 18  VVx10     357816 non-null  float64\n",
      " 19  DVVx10    357816 non-null  float64\n",
      " 20  VVx6      53074 non-null   float64\n",
      " 21  DVVx6     53062 non-null   float64\n",
      " 22  VVx2      221014 non-null  float64\n",
      " 23  DVVx2     221014 non-null  float64\n",
      " 24  RN        44838 non-null   float64\n",
      " 25  Px        307030 non-null  float64\n",
      " 26  Pn        307031 non-null  float64\n",
      "dtypes: float64(26), object(1)\n",
      "memory usage: 155.6+ MB\n"
     ]
    }
   ],
   "source": [
    "df = df.replace(-1, np.nan)\n",
    "df.info()"
   ]
  },
  {
   "cell_type": "code",
   "execution_count": 10,
   "metadata": {},
   "outputs": [
    {
     "data": {
      "text/plain": [
       "RN          94.064203\n",
       "DVVx6       92.975484\n",
       "DV6         92.975352\n",
       "VVx6        92.973895\n",
       "VV6         92.973631\n",
       "GNEU        90.248258\n",
       "VVx2        70.741465\n",
       "DVVx2       70.741465\n",
       "DV2         70.736302\n",
       "VV2         70.736170\n",
       "Px          59.354394\n",
       "Pn          59.354261\n",
       "P           59.352011\n",
       "VVx10       52.631182\n",
       "DVVx10      52.631182\n",
       "DV10        52.622445\n",
       "VV10        52.622047\n",
       "RS          22.769112\n",
       "PPTx1min     7.610841\n",
       "Tn           2.783356\n",
       "Tx           2.778590\n",
       "T            2.766279\n",
       "HRn          2.737287\n",
       "HRx          2.737022\n",
       "HR           2.726564\n",
       "PPT          1.626063\n",
       "id           0.000000\n",
       "dtype: float64"
      ]
     },
     "execution_count": 10,
     "metadata": {},
     "output_type": "execute_result"
    }
   ],
   "source": [
    "missing_percent = df.isna().sum() * 100 / len(df)\n",
    "missing_percent.sort_values(ascending=False)"
   ]
  },
  {
   "cell_type": "markdown",
   "metadata": {},
   "source": [
    "Vemos que la RN (Irradiància neta) no esta presente en muchos casos y tampoco la presencia de nieve (GNEU). Esta última puede ser debido a que en Cataluña no nieva en exceso salvo en areas de montaña. Ademas no es significativa en el periodo de incendios a estudiar (primavera verano).\n",
    "\n",
    "Las variables que tienen menos de un 10% de valores sin rellenar se deben a que son tests automaticos?"
   ]
  },
  {
   "cell_type": "code",
   "execution_count": null,
   "metadata": {},
   "outputs": [
    {
     "data": {
      "text/html": [
       "<div>\n",
       "<style scoped>\n",
       "    .dataframe tbody tr th:only-of-type {\n",
       "        vertical-align: middle;\n",
       "    }\n",
       "\n",
       "    .dataframe tbody tr th {\n",
       "        vertical-align: top;\n",
       "    }\n",
       "\n",
       "    .dataframe thead th {\n",
       "        text-align: right;\n",
       "    }\n",
       "</style>\n",
       "<table border=\"1\" class=\"dataframe\">\n",
       "  <thead>\n",
       "    <tr style=\"text-align: right;\">\n",
       "      <th></th>\n",
       "      <th>id</th>\n",
       "      <th>PPTx1min</th>\n",
       "      <th>HRx</th>\n",
       "      <th>VV10</th>\n",
       "      <th>DV10</th>\n",
       "      <th>T</th>\n",
       "      <th>HR</th>\n",
       "      <th>P</th>\n",
       "      <th>PPT</th>\n",
       "      <th>RS</th>\n",
       "      <th>...</th>\n",
       "      <th>Tx</th>\n",
       "      <th>Tn</th>\n",
       "      <th>HRn</th>\n",
       "      <th>VVx10</th>\n",
       "      <th>DVVx10</th>\n",
       "      <th>RN</th>\n",
       "      <th>Px</th>\n",
       "      <th>Pn</th>\n",
       "      <th>station</th>\n",
       "      <th>date</th>\n",
       "    </tr>\n",
       "  </thead>\n",
       "  <tbody>\n",
       "    <tr>\n",
       "      <th>0</th>\n",
       "      <td>XQ0504172300</td>\n",
       "      <td>0.0</td>\n",
       "      <td>61.0</td>\n",
       "      <td>NaN</td>\n",
       "      <td>NaN</td>\n",
       "      <td>NaN</td>\n",
       "      <td>60.0</td>\n",
       "      <td>NaN</td>\n",
       "      <td>0.0</td>\n",
       "      <td>NaN</td>\n",
       "      <td>...</td>\n",
       "      <td>NaN</td>\n",
       "      <td>NaN</td>\n",
       "      <td>NaN</td>\n",
       "      <td>NaN</td>\n",
       "      <td>NaN</td>\n",
       "      <td>NaN</td>\n",
       "      <td>NaN</td>\n",
       "      <td>NaN</td>\n",
       "      <td>XQ</td>\n",
       "      <td>2017-04-05 23:00:00</td>\n",
       "    </tr>\n",
       "    <tr>\n",
       "      <th>1</th>\n",
       "      <td>XR0504172300</td>\n",
       "      <td>0.0</td>\n",
       "      <td>89.0</td>\n",
       "      <td>NaN</td>\n",
       "      <td>NaN</td>\n",
       "      <td>5.5</td>\n",
       "      <td>89.0</td>\n",
       "      <td>NaN</td>\n",
       "      <td>0.0</td>\n",
       "      <td>0.0</td>\n",
       "      <td>...</td>\n",
       "      <td>5.7</td>\n",
       "      <td>5.3</td>\n",
       "      <td>88.0</td>\n",
       "      <td>NaN</td>\n",
       "      <td>NaN</td>\n",
       "      <td>NaN</td>\n",
       "      <td>NaN</td>\n",
       "      <td>NaN</td>\n",
       "      <td>XR</td>\n",
       "      <td>2017-04-05 23:00:00</td>\n",
       "    </tr>\n",
       "    <tr>\n",
       "      <th>2</th>\n",
       "      <td>XS0504172300</td>\n",
       "      <td>0.0</td>\n",
       "      <td>81.0</td>\n",
       "      <td>1.7</td>\n",
       "      <td>295.0</td>\n",
       "      <td>10.5</td>\n",
       "      <td>78.0</td>\n",
       "      <td>NaN</td>\n",
       "      <td>0.0</td>\n",
       "      <td>0.0</td>\n",
       "      <td>...</td>\n",
       "      <td>10.7</td>\n",
       "      <td>10.2</td>\n",
       "      <td>76.0</td>\n",
       "      <td>4.1</td>\n",
       "      <td>286.0</td>\n",
       "      <td>NaN</td>\n",
       "      <td>NaN</td>\n",
       "      <td>NaN</td>\n",
       "      <td>XS</td>\n",
       "      <td>2017-04-05 23:00:00</td>\n",
       "    </tr>\n",
       "    <tr>\n",
       "      <th>3</th>\n",
       "      <td>XT0504172300</td>\n",
       "      <td>0.0</td>\n",
       "      <td>93.0</td>\n",
       "      <td>0.7</td>\n",
       "      <td>265.0</td>\n",
       "      <td>4.8</td>\n",
       "      <td>92.0</td>\n",
       "      <td>939.8</td>\n",
       "      <td>0.0</td>\n",
       "      <td>0.0</td>\n",
       "      <td>...</td>\n",
       "      <td>5.3</td>\n",
       "      <td>4.3</td>\n",
       "      <td>89.0</td>\n",
       "      <td>2.2</td>\n",
       "      <td>285.0</td>\n",
       "      <td>NaN</td>\n",
       "      <td>940.0</td>\n",
       "      <td>939.7</td>\n",
       "      <td>XT</td>\n",
       "      <td>2017-04-05 23:00:00</td>\n",
       "    </tr>\n",
       "    <tr>\n",
       "      <th>4</th>\n",
       "      <td>XU0504172300</td>\n",
       "      <td>0.0</td>\n",
       "      <td>96.0</td>\n",
       "      <td>0.2</td>\n",
       "      <td>269.0</td>\n",
       "      <td>8.7</td>\n",
       "      <td>96.0</td>\n",
       "      <td>NaN</td>\n",
       "      <td>0.0</td>\n",
       "      <td>0.0</td>\n",
       "      <td>...</td>\n",
       "      <td>8.8</td>\n",
       "      <td>8.6</td>\n",
       "      <td>95.0</td>\n",
       "      <td>0.9</td>\n",
       "      <td>228.0</td>\n",
       "      <td>NaN</td>\n",
       "      <td>NaN</td>\n",
       "      <td>NaN</td>\n",
       "      <td>XU</td>\n",
       "      <td>2017-04-05 23:00:00</td>\n",
       "    </tr>\n",
       "  </tbody>\n",
       "</table>\n",
       "<p>5 rows × 21 columns</p>\n",
       "</div>"
      ],
      "text/plain": [
       "             id  PPTx1min   HRx  VV10   DV10     T    HR      P  PPT   RS  \\\n",
       "0  XQ0504172300       0.0  61.0   NaN    NaN   NaN  60.0    NaN  0.0  NaN   \n",
       "1  XR0504172300       0.0  89.0   NaN    NaN   5.5  89.0    NaN  0.0  0.0   \n",
       "2  XS0504172300       0.0  81.0   1.7  295.0  10.5  78.0    NaN  0.0  0.0   \n",
       "3  XT0504172300       0.0  93.0   0.7  265.0   4.8  92.0  939.8  0.0  0.0   \n",
       "4  XU0504172300       0.0  96.0   0.2  269.0   8.7  96.0    NaN  0.0  0.0   \n",
       "\n",
       "   ...    Tx    Tn   HRn  VVx10  DVVx10  RN     Px     Pn  station  \\\n",
       "0  ...   NaN   NaN   NaN    NaN     NaN NaN    NaN    NaN       XQ   \n",
       "1  ...   5.7   5.3  88.0    NaN     NaN NaN    NaN    NaN       XR   \n",
       "2  ...  10.7  10.2  76.0    4.1   286.0 NaN    NaN    NaN       XS   \n",
       "3  ...   5.3   4.3  89.0    2.2   285.0 NaN  940.0  939.7       XT   \n",
       "4  ...   8.8   8.6  95.0    0.9   228.0 NaN    NaN    NaN       XU   \n",
       "\n",
       "                 date  \n",
       "0 2017-04-05 23:00:00  \n",
       "1 2017-04-05 23:00:00  \n",
       "2 2017-04-05 23:00:00  \n",
       "3 2017-04-05 23:00:00  \n",
       "4 2017-04-05 23:00:00  \n",
       "\n",
       "[5 rows x 21 columns]"
      ]
     },
     "execution_count": 85,
     "metadata": {},
     "output_type": "execute_result"
    }
   ],
   "source": [
    "df['id'].astype(str)\n",
    "df['station'] = df['id'].str[:2]\n",
    "df['date'] = pd.to_datetime(df['id'].str[2:], format='%d%m%y%H%M')\n",
    "df.head()\n"
   ]
  },
  {
   "cell_type": "markdown",
   "metadata": {},
   "source": [
    "Ahora mirare la distribución de las distintas estaciones, algunas no apareceran porque los datos son solamente los ultimos 10millones de observaciones.\n"
   ]
  },
  {
   "cell_type": "code",
   "execution_count": null,
   "metadata": {},
   "outputs": [
    {
     "data": {
      "text/plain": [
       "XQ    4094\n",
       "UB    4094\n",
       "U7    4094\n",
       "U9    4094\n",
       "VA    4094\n",
       "      ... \n",
       "XI    4093\n",
       "XL    4093\n",
       "XK    4093\n",
       "XJ    4093\n",
       "YE    2095\n",
       "Name: station, Length: 185, dtype: int64"
      ]
     },
     "execution_count": 94,
     "metadata": {},
     "output_type": "execute_result"
    }
   ],
   "source": [
    "df.station.value_counts()"
   ]
  },
  {
   "cell_type": "code",
   "execution_count": null,
   "metadata": {},
   "outputs": [
    {
     "data": {
      "text/plain": [
       "233"
      ]
     },
     "execution_count": 95,
     "metadata": {},
     "output_type": "execute_result"
    }
   ],
   "source": [
    "stations = json.load(open('data/stations.json', encoding='UTF-8'))\n",
    "len(stations)"
   ]
  },
  {
   "cell_type": "code",
   "execution_count": null,
   "metadata": {},
   "outputs": [],
   "source": []
  }
 ],
 "metadata": {
  "kernelspec": {
   "display_name": "Python 3.9.9 64-bit",
   "language": "python",
   "name": "python3"
  },
  "language_info": {
   "codemirror_mode": {
    "name": "ipython",
    "version": 3
   },
   "file_extension": ".py",
   "mimetype": "text/x-python",
   "name": "python",
   "nbconvert_exporter": "python",
   "pygments_lexer": "ipython3",
   "version": "3.9.9"
  },
  "orig_nbformat": 4,
  "vscode": {
   "interpreter": {
    "hash": "68524f1d360af1ab57d57a068939347c6359f233fa0de6693dca63bc35cbe447"
   }
  }
 },
 "nbformat": 4,
 "nbformat_minor": 2
}
